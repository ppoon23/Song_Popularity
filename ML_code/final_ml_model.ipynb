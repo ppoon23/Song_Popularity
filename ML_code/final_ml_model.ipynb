{
 "cells": [
  {
   "cell_type": "markdown",
   "metadata": {
    "toc": true
   },
   "source": [
    "<h1>Table of Contents<span class=\"tocSkip\"></span></h1>\n",
    "<div class=\"toc\"><ul class=\"toc-item\"><li><span><a href=\"#Final-Model-by-Patrick-Poon\" data-toc-modified-id=\"Final-Model-by-Patrick-Poon-1\">Final Model by Patrick Poon</a></span></li><li><span><a href=\"#Research-Question-/-Hypothesis\" data-toc-modified-id=\"Research-Question-/-Hypothesis-2\">Research Question / Hypothesis</a></span></li><li><span><a href=\"#Load-Data\" data-toc-modified-id=\"Load-Data-3\">Load Data</a></span></li><li><span><a href=\"#Create-pipeline-for-different-data-types\" data-toc-modified-id=\"Create-pipeline-for-different-data-types-4\">Create pipeline for different data types</a></span></li><li><span><a href=\"#Fitting-ML-Models\" data-toc-modified-id=\"Fitting-ML-Models-5\">Fitting ML Models</a></span><ul class=\"toc-item\"><li><span><a href=\"#Ridge-Regressor\" data-toc-modified-id=\"Ridge-Regressor-5.1\">Ridge Regressor</a></span></li><li><span><a href=\"#HuberRegressor\" data-toc-modified-id=\"HuberRegressor-5.2\">HuberRegressor</a></span></li><li><span><a href=\"#Second-Run-HuberRegressor\" data-toc-modified-id=\"Second-Run-HuberRegressor-5.3\">Second Run HuberRegressor</a></span></li><li><span><a href=\"#Ensemble-Bagging\" data-toc-modified-id=\"Ensemble-Bagging-5.4\">Ensemble Bagging</a></span></li><li><span><a href=\"#Ensemble---Random-Forest\" data-toc-modified-id=\"Ensemble---Random-Forest-5.5\">Ensemble - Random Forest</a></span></li><li><span><a href=\"#Question:-What-if-we-are-not-putting-any-hyperparameters-and-just-run-RandomForest-using-default-parameters?\" data-toc-modified-id=\"Question:-What-if-we-are-not-putting-any-hyperparameters-and-just-run-RandomForest-using-default-parameters?-5.6\">Question: What if we are not putting any hyperparameters and just run RandomForest using default parameters?</a></span></li></ul></li><li><span><a href=\"#Final-Model-Evaluation-on-test-set\" data-toc-modified-id=\"Final-Model-Evaluation-on-test-set-6\">Final Model Evaluation on test set</a></span></li><li><span><a href=\"#Evaluation-Metric\" data-toc-modified-id=\"Evaluation-Metric-7\">Evaluation Metric</a></span></li></ul></div>"
   ]
  },
  {
   "cell_type": "code",
   "execution_count": 1,
   "metadata": {
    "ExecuteTime": {
     "end_time": "2021-03-10T21:58:55.150011Z",
     "start_time": "2021-03-10T21:58:54.191504Z"
    }
   },
   "outputs": [],
   "source": [
    "import numpy as np\n",
    "import pandas as pd\n",
    "from sklearn.model_selection import train_test_split\n",
    "from   sklearn.compose            import *\n",
    "from   sklearn.experimental       import enable_iterative_imputer\n",
    "from   sklearn.impute             import *\n",
    "from   sklearn.metrics            import balanced_accuracy_score # Evaluation metric 2.0 \n",
    "from   sklearn.pipeline           import Pipeline\n",
    "from   sklearn.preprocessing      import *\n",
    "from   sklearn.linear_model    import *\n",
    "from   sklearn.metrics         import mean_absolute_error\n",
    "from sklearn.base import BaseEstimator\n",
    "from   sklearn.tree import *\n",
    "from   sklearn.ensemble import *\n",
    "from sklearn.model_selection  import RandomizedSearchCV\n",
    "from sklearn.model_selection  import GridSearchCV\n",
    "from sklearn import set_config\n",
    "from sklearn.model_selection import cross_val_score"
   ]
  },
  {
   "cell_type": "markdown",
   "metadata": {},
   "source": [
    "Final Model by Patrick Poon\n",
    "---"
   ]
  },
  {
   "cell_type": "markdown",
   "metadata": {},
   "source": [
    "Research Question / Hypothesis\n",
    "----\n",
    "\n",
    "Based on artists and characteristics on songs, find the populartiy scores of the songs\n",
    "\n"
   ]
  },
  {
   "cell_type": "markdown",
   "metadata": {},
   "source": [
    "Load Data\n",
    "-----"
   ]
  },
  {
   "cell_type": "code",
   "execution_count": 2,
   "metadata": {
    "ExecuteTime": {
     "end_time": "2021-03-10T21:58:55.275582Z",
     "start_time": "2021-03-10T21:58:55.151689Z"
    }
   },
   "outputs": [],
   "source": [
    "X = pd.read_csv('../data_2010/X.csv')\n",
    "y = pd.read_csv('../data_2010/y.csv')"
   ]
  },
  {
   "cell_type": "code",
   "execution_count": 3,
   "metadata": {
    "ExecuteTime": {
     "end_time": "2021-03-10T21:58:55.286575Z",
     "start_time": "2021-03-10T21:58:55.277530Z"
    }
   },
   "outputs": [],
   "source": [
    "X = X.drop(columns=['Unnamed: 0','id','release_date', 'artists','name'])\n",
    "y = y.drop(columns=['Unnamed: 0'])\n",
    "y = y.values.ravel()"
   ]
  },
  {
   "cell_type": "code",
   "execution_count": 4,
   "metadata": {
    "ExecuteTime": {
     "end_time": "2021-03-10T21:58:55.295553Z",
     "start_time": "2021-03-10T21:58:55.288551Z"
    }
   },
   "outputs": [],
   "source": [
    "X_train, X_test, y_train, y_test = train_test_split(X, y, test_size=0.2, shuffle=True)"
   ]
  },
  {
   "cell_type": "markdown",
   "metadata": {},
   "source": [
    "Create pipeline for different data types\n",
    "----"
   ]
  },
  {
   "cell_type": "code",
   "execution_count": 7,
   "metadata": {
    "ExecuteTime": {
     "end_time": "2021-03-10T21:58:55.333201Z",
     "start_time": "2021-03-10T21:58:55.330847Z"
    }
   },
   "outputs": [],
   "source": [
    "col = X.columns.tolist()"
   ]
  },
  {
   "cell_type": "code",
   "execution_count": 8,
   "metadata": {
    "ExecuteTime": {
     "end_time": "2021-03-10T21:58:55.337218Z",
     "start_time": "2021-03-10T21:58:55.335157Z"
    }
   },
   "outputs": [],
   "source": [
    "onehot_cat = ['mode','explicit', 'key', 'year'] # one hot encode these features"
   ]
  },
  {
   "cell_type": "code",
   "execution_count": 9,
   "metadata": {
    "ExecuteTime": {
     "end_time": "2021-03-10T21:58:55.340924Z",
     "start_time": "2021-03-10T21:58:55.338678Z"
    }
   },
   "outputs": [],
   "source": [
    "con_cat = [i for i in col if i not in onehot_cat] # continuous data"
   ]
  },
  {
   "cell_type": "code",
   "execution_count": 10,
   "metadata": {
    "ExecuteTime": {
     "end_time": "2021-03-10T21:58:55.344843Z",
     "start_time": "2021-03-10T21:58:55.342400Z"
    }
   },
   "outputs": [],
   "source": [
    "# Create onehotencoding pipeline, impute most frequent feature if missing\n",
    "cat_pipe = Pipeline([\n",
    "    ('ohe', OneHotEncoder(handle_unknown='ignore')),\n",
    "    ('imputer', SimpleImputer(strategy='most_frequent', add_indicator=True))\n",
    "])"
   ]
  },
  {
   "cell_type": "code",
   "execution_count": 11,
   "metadata": {
    "ExecuteTime": {
     "end_time": "2021-03-10T21:58:55.348702Z",
     "start_time": "2021-03-10T21:58:55.346380Z"
    }
   },
   "outputs": [],
   "source": [
    "# Standardize continous data, use nearest neighbors for missing features\n",
    "con_pipe = Pipeline([\n",
    "    ('SS', StandardScaler()),\n",
    "    ('KNN', KNNImputer(n_neighbors=5))\n",
    "])"
   ]
  },
  {
   "cell_type": "code",
   "execution_count": 12,
   "metadata": {
    "ExecuteTime": {
     "end_time": "2021-03-10T21:58:55.352978Z",
     "start_time": "2021-03-10T21:58:55.350628Z"
    }
   },
   "outputs": [],
   "source": [
    "# Using column transformer to pack all features together, and assign them as categorial and continous data\n",
    "preprocessor = ColumnTransformer([\n",
    "    ('categorical', cat_pipe, onehot_cat),\n",
    "    ('continuous', con_pipe, con_cat)\n",
    "])"
   ]
  },
  {
   "cell_type": "markdown",
   "metadata": {},
   "source": [
    "Fitting ML Models\n",
    "---"
   ]
  },
  {
   "cell_type": "code",
   "execution_count": 13,
   "metadata": {
    "ExecuteTime": {
     "end_time": "2021-03-10T21:58:55.356665Z",
     "start_time": "2021-03-10T21:58:55.354525Z"
    }
   },
   "outputs": [],
   "source": [
    "# define dummy estimator for testing regressors\n",
    "class DummyEstimator(BaseEstimator):\n",
    "    \"Pass through class, methods are present but do nothing.\"\n",
    "    def fit(self): pass\n",
    "    def score(self): pass"
   ]
  },
  {
   "cell_type": "markdown",
   "metadata": {},
   "source": [
    "Usually, Dummy Estimators are used for testing multiple regressors at once. However, each regressor is broken down one by one in this analysis. This is to avoid running into issues, so each test can escape out after it is done. "
   ]
  },
  {
   "cell_type": "markdown",
   "metadata": {},
   "source": [
    "### Ridge Regressor"
   ]
  },
  {
   "cell_type": "markdown",
   "metadata": {},
   "source": [
    "For ridge regressor, the goal is to find the optimal generalization from the alpha to avoid issues with outliers. From multiple iterations, the range of 0.05 - 0.2 performs best. \n",
    "\n",
    "For the targets, a target regressor transformer is applied so the output distribution is more of a normal distribution. This is done for optimizing performances of linear models.\n",
    "\n",
    "A randomized cross-validation search is used to look for the best parameter in the search space, which is the alphas in this scenario. For the metric, root mean squared errors (RMSE) and mean squared errors (MSE) are used initially. The largest (neg) MSE or RMSE will indicate the best parameters from the CV searches. From inspection, RMSE is used as evaluation metric because RMSE penalizes large errors more, which is what we want to avoid here "
   ]
  },
  {
   "cell_type": "code",
   "execution_count": 14,
   "metadata": {
    "ExecuteTime": {
     "end_time": "2021-03-10T21:58:55.361780Z",
     "start_time": "2021-03-10T21:58:55.357997Z"
    }
   },
   "outputs": [],
   "source": [
    "# Create space of candidate learning algorithms and their hyperparameters\n",
    "alphas = np.linspace(0.05, 0.2, 25) # From various runs, the range of 0.05 to 0.2 seems to perform the best\n",
    "search_space = [{'regre': [Ridge()], # Actual Estimator\n",
    "                 'regre__alpha': alphas}] ## Alpha determines how much genalization we want to introduce in the model\n",
    "\n",
    "# Final pipe for cross validation; quantiletransformer has a number of 300 quantiles. This was decided from multiple runs.\\\n",
    "# Changing from 300 to 1000 shows little impact.\n",
    "ridge_final_pipe = Pipeline([('preprocessor', preprocessor),\n",
    "                ('regre', TransformedTargetRegressor(regressor=DummyEstimator(),\n",
    "                                                         transformer=QuantileTransformer(n_quantiles=300,\n",
    "                                                         output_distribution='normal')))]) \n",
    "\n",
    "# Randomly pick numbers from search space (in this case, alphas) to find the best hyperparameter that performs best\n",
    "ridge_randcv = RandomizedSearchCV(estimator=ridge_final_pipe, \n",
    "                                 param_distributions=search_space, \n",
    "                                 n_iter=20,\n",
    "                                 cv=5,\n",
    "                                 scoring=['neg_root_mean_squared_error', 'neg_mean_squared_error'],\n",
    "                                 n_jobs=-1,\n",
    "                                 verbose=1,\n",
    "                                 random_state=42,\n",
    "                                 refit='neg_root_mean_squared_error')"
   ]
  },
  {
   "cell_type": "code",
   "execution_count": 15,
   "metadata": {
    "ExecuteTime": {
     "end_time": "2021-03-10T21:58:56.112284Z",
     "start_time": "2021-03-10T21:58:55.363592Z"
    }
   },
   "outputs": [
    {
     "data": {
      "text/html": [
       "<style>div.sk-top-container {color: black;background-color: white;}div.sk-toggleable {background-color: white;}label.sk-toggleable__label {cursor: pointer;display: block;width: 100%;margin-bottom: 0;padding: 0.2em 0.3em;box-sizing: border-box;text-align: center;}div.sk-toggleable__content {max-height: 0;max-width: 0;overflow: hidden;text-align: left;background-color: #f0f8ff;}div.sk-toggleable__content pre {margin: 0.2em;color: black;border-radius: 0.25em;background-color: #f0f8ff;}input.sk-toggleable__control:checked~div.sk-toggleable__content {max-height: 200px;max-width: 100%;overflow: auto;}div.sk-estimator input.sk-toggleable__control:checked~label.sk-toggleable__label {background-color: #d4ebff;}div.sk-label input.sk-toggleable__control:checked~label.sk-toggleable__label {background-color: #d4ebff;}input.sk-hidden--visually {border: 0;clip: rect(1px 1px 1px 1px);clip: rect(1px, 1px, 1px, 1px);height: 1px;margin: -1px;overflow: hidden;padding: 0;position: absolute;width: 1px;}div.sk-estimator {font-family: monospace;background-color: #f0f8ff;margin: 0.25em 0.25em;border: 1px dotted black;border-radius: 0.25em;box-sizing: border-box;}div.sk-estimator:hover {background-color: #d4ebff;}div.sk-parallel-item::after {content: \"\";width: 100%;border-bottom: 1px solid gray;flex-grow: 1;}div.sk-label:hover label.sk-toggleable__label {background-color: #d4ebff;}div.sk-serial::before {content: \"\";position: absolute;border-left: 1px solid gray;box-sizing: border-box;top: 2em;bottom: 0;left: 50%;}div.sk-serial {display: flex;flex-direction: column;align-items: center;background-color: white;}div.sk-item {z-index: 1;}div.sk-parallel {display: flex;align-items: stretch;justify-content: center;background-color: white;}div.sk-parallel-item {display: flex;flex-direction: column;position: relative;background-color: white;}div.sk-parallel-item:first-child::after {align-self: flex-end;width: 50%;}div.sk-parallel-item:last-child::after {align-self: flex-start;width: 50%;}div.sk-parallel-item:only-child::after {width: 0;}div.sk-dashed-wrapped {border: 1px dashed gray;margin: 0.2em;box-sizing: border-box;padding-bottom: 0.1em;background-color: white;position: relative;}div.sk-label label {font-family: monospace;font-weight: bold;background-color: white;display: inline-block;line-height: 1.2em;}div.sk-label-container {position: relative;z-index: 2;text-align: center;}div.sk-container {display: inline-block;position: relative;}</style><div class=\"sk-top-container\"><div class=\"sk-container\"><div class=\"sk-item sk-dashed-wrapped\"><div class=\"sk-label-container\"><div class=\"sk-label sk-toggleable\"><input class=\"sk-toggleable__control sk-hidden--visually\" id=\"929922c4-c214-4d4d-95b3-787825a2b0d7\" type=\"checkbox\" ><label class=\"sk-toggleable__label\" for=\"929922c4-c214-4d4d-95b3-787825a2b0d7\">RandomizedSearchCV</label><div class=\"sk-toggleable__content\"><pre>RandomizedSearchCV(cv=5,\n",
       "                   estimator=Pipeline(steps=[('preprocessor',\n",
       "                                              ColumnTransformer(transformers=[('categorical',\n",
       "                                                                               Pipeline(steps=[('ohe',\n",
       "                                                                                                OneHotEncoder(handle_unknown='ignore')),\n",
       "                                                                                               ('imputer',\n",
       "                                                                                                SimpleImputer(add_indicator=True,\n",
       "                                                                                                              strategy='most_frequent'))]),\n",
       "                                                                               ['mode',\n",
       "                                                                                'explicit',\n",
       "                                                                                'key',\n",
       "                                                                                'year']),\n",
       "                                                                              ('continuous',\n",
       "                                                                               Pipeline(steps=[('SS',\n",
       "                                                                                                StandardScaler()),\n",
       "                                                                                               ('KNN',\n",
       "                                                                                                KNNImp...\n",
       "                   param_distributions=[{'regre': [Ridge()],\n",
       "                                         'regre__alpha': array([0.05   , 0.05625, 0.0625 , 0.06875, 0.075  , 0.08125, 0.0875 ,\n",
       "       0.09375, 0.1    , 0.10625, 0.1125 , 0.11875, 0.125  , 0.13125,\n",
       "       0.1375 , 0.14375, 0.15   , 0.15625, 0.1625 , 0.16875, 0.175  ,\n",
       "       0.18125, 0.1875 , 0.19375, 0.2    ])}],\n",
       "                   random_state=42, refit='neg_root_mean_squared_error',\n",
       "                   scoring=['neg_root_mean_squared_error',\n",
       "                            'neg_mean_squared_error'],\n",
       "                   verbose=1)</pre></div></div></div><div class=\"sk-parallel\"><div class=\"sk-parallel-item\"><div class=\"sk-item\"><div class=\"sk-serial\"><div class=\"sk-item\"><div class=\"sk-serial\"><div class=\"sk-item sk-dashed-wrapped\"><div class=\"sk-label-container\"><div class=\"sk-label sk-toggleable\"><input class=\"sk-toggleable__control sk-hidden--visually\" id=\"9d6b0a69-5f0d-4379-a4f3-be4d3e9a4217\" type=\"checkbox\" ><label class=\"sk-toggleable__label\" for=\"9d6b0a69-5f0d-4379-a4f3-be4d3e9a4217\">preprocessor: ColumnTransformer</label><div class=\"sk-toggleable__content\"><pre>ColumnTransformer(transformers=[('categorical',\n",
       "                                 Pipeline(steps=[('ohe',\n",
       "                                                  OneHotEncoder(handle_unknown='ignore')),\n",
       "                                                 ('imputer',\n",
       "                                                  SimpleImputer(add_indicator=True,\n",
       "                                                                strategy='most_frequent'))]),\n",
       "                                 ['mode', 'explicit', 'key', 'year']),\n",
       "                                ('continuous',\n",
       "                                 Pipeline(steps=[('SS', StandardScaler()),\n",
       "                                                 ('KNN', KNNImputer())]),\n",
       "                                 ['acousticness', 'danceability', 'duration_ms',\n",
       "                                  'energy', 'instrumentalness', 'liveness',\n",
       "                                  'loudness', 'speechiness', 'tempo',\n",
       "                                  'valence'])])</pre></div></div></div><div class=\"sk-parallel\"><div class=\"sk-parallel-item\"><div class=\"sk-item\"><div class=\"sk-label-container\"><div class=\"sk-label sk-toggleable\"><input class=\"sk-toggleable__control sk-hidden--visually\" id=\"1c02e20b-3685-4cb9-a002-9ba07dedcb77\" type=\"checkbox\" ><label class=\"sk-toggleable__label\" for=\"1c02e20b-3685-4cb9-a002-9ba07dedcb77\">categorical</label><div class=\"sk-toggleable__content\"><pre>['mode', 'explicit', 'key', 'year']</pre></div></div></div><div class=\"sk-serial\"><div class=\"sk-item\"><div class=\"sk-serial\"><div class=\"sk-item\"><div class=\"sk-estimator sk-toggleable\"><input class=\"sk-toggleable__control sk-hidden--visually\" id=\"164b0a2b-5c3c-4b9a-9243-1a05430590b9\" type=\"checkbox\" ><label class=\"sk-toggleable__label\" for=\"164b0a2b-5c3c-4b9a-9243-1a05430590b9\">OneHotEncoder</label><div class=\"sk-toggleable__content\"><pre>OneHotEncoder(handle_unknown='ignore')</pre></div></div></div><div class=\"sk-item\"><div class=\"sk-estimator sk-toggleable\"><input class=\"sk-toggleable__control sk-hidden--visually\" id=\"182e906a-2e01-453b-84d4-0c2eb9e0f64b\" type=\"checkbox\" ><label class=\"sk-toggleable__label\" for=\"182e906a-2e01-453b-84d4-0c2eb9e0f64b\">SimpleImputer</label><div class=\"sk-toggleable__content\"><pre>SimpleImputer(add_indicator=True, strategy='most_frequent')</pre></div></div></div></div></div></div></div></div><div class=\"sk-parallel-item\"><div class=\"sk-item\"><div class=\"sk-label-container\"><div class=\"sk-label sk-toggleable\"><input class=\"sk-toggleable__control sk-hidden--visually\" id=\"7d7d5179-3347-44ce-85ec-1a0d3554eb83\" type=\"checkbox\" ><label class=\"sk-toggleable__label\" for=\"7d7d5179-3347-44ce-85ec-1a0d3554eb83\">continuous</label><div class=\"sk-toggleable__content\"><pre>['acousticness', 'danceability', 'duration_ms', 'energy', 'instrumentalness', 'liveness', 'loudness', 'speechiness', 'tempo', 'valence']</pre></div></div></div><div class=\"sk-serial\"><div class=\"sk-item\"><div class=\"sk-serial\"><div class=\"sk-item\"><div class=\"sk-estimator sk-toggleable\"><input class=\"sk-toggleable__control sk-hidden--visually\" id=\"8a856b7f-c1e4-4b35-8e79-edf1229671df\" type=\"checkbox\" ><label class=\"sk-toggleable__label\" for=\"8a856b7f-c1e4-4b35-8e79-edf1229671df\">StandardScaler</label><div class=\"sk-toggleable__content\"><pre>StandardScaler()</pre></div></div></div><div class=\"sk-item\"><div class=\"sk-estimator sk-toggleable\"><input class=\"sk-toggleable__control sk-hidden--visually\" id=\"89b66a67-41e3-4ebb-9e38-5eb04e89b412\" type=\"checkbox\" ><label class=\"sk-toggleable__label\" for=\"89b66a67-41e3-4ebb-9e38-5eb04e89b412\">KNNImputer</label><div class=\"sk-toggleable__content\"><pre>KNNImputer()</pre></div></div></div></div></div></div></div></div></div></div><div class=\"sk-item sk-dashed-wrapped\"><div class=\"sk-label-container\"><div class=\"sk-label sk-toggleable\"><input class=\"sk-toggleable__control sk-hidden--visually\" id=\"55099ae4-6d0b-4358-ba67-468826175920\" type=\"checkbox\" ><label class=\"sk-toggleable__label\" for=\"55099ae4-6d0b-4358-ba67-468826175920\">regre: TransformedTargetRegressor</label><div class=\"sk-toggleable__content\"><pre>TransformedTargetRegressor(regressor=DummyEstimator(),\n",
       "                           transformer=QuantileTransformer(n_quantiles=300,\n",
       "                                                           output_distribution='normal'))</pre></div></div></div><div class=\"sk-parallel\"><div class=\"sk-parallel-item\"><div class=\"sk-item\"><div class=\"sk-serial\"><div class=\"sk-item\"><div class=\"sk-estimator sk-toggleable\"><input class=\"sk-toggleable__control sk-hidden--visually\" id=\"07fc373a-8b23-4172-851f-2363a11036ec\" type=\"checkbox\" ><label class=\"sk-toggleable__label\" for=\"07fc373a-8b23-4172-851f-2363a11036ec\">DummyEstimator</label><div class=\"sk-toggleable__content\"><pre>DummyEstimator()</pre></div></div></div></div></div></div><div class=\"sk-parallel-item\"><div class=\"sk-item\"><div class=\"sk-serial\"><div class=\"sk-item\"><div class=\"sk-estimator sk-toggleable\"><input class=\"sk-toggleable__control sk-hidden--visually\" id=\"5c1404f8-3a41-4467-9000-3c843811af93\" type=\"checkbox\" ><label class=\"sk-toggleable__label\" for=\"5c1404f8-3a41-4467-9000-3c843811af93\">QuantileTransformer</label><div class=\"sk-toggleable__content\"><pre>QuantileTransformer(n_quantiles=300, output_distribution='normal')</pre></div></div></div></div></div></div></div></div></div></div></div></div></div></div></div></div></div>"
      ],
      "text/plain": [
       "RandomizedSearchCV(cv=5,\n",
       "                   estimator=Pipeline(steps=[('preprocessor',\n",
       "                                              ColumnTransformer(transformers=[('categorical',\n",
       "                                                                               Pipeline(steps=[('ohe',\n",
       "                                                                                                OneHotEncoder(handle_unknown='ignore')),\n",
       "                                                                                               ('imputer',\n",
       "                                                                                                SimpleImputer(add_indicator=True,\n",
       "                                                                                                              strategy='most_frequent'))]),\n",
       "                                                                               ['mode',\n",
       "                                                                                'explicit',\n",
       "                                                                                'key',\n",
       "                                                                                'year']),\n",
       "                                                                              ('continuous',\n",
       "                                                                               Pipeline(steps=[('SS',\n",
       "                                                                                                StandardScaler()),\n",
       "                                                                                               ('KNN',\n",
       "                                                                                                KNNImp...\n",
       "                   param_distributions=[{'regre': [Ridge()],\n",
       "                                         'regre__alpha': array([0.05   , 0.05625, 0.0625 , 0.06875, 0.075  , 0.08125, 0.0875 ,\n",
       "       0.09375, 0.1    , 0.10625, 0.1125 , 0.11875, 0.125  , 0.13125,\n",
       "       0.1375 , 0.14375, 0.15   , 0.15625, 0.1625 , 0.16875, 0.175  ,\n",
       "       0.18125, 0.1875 , 0.19375, 0.2    ])}],\n",
       "                   random_state=42, refit='neg_root_mean_squared_error',\n",
       "                   scoring=['neg_root_mean_squared_error',\n",
       "                            'neg_mean_squared_error'],\n",
       "                   verbose=1)"
      ]
     },
     "execution_count": 15,
     "metadata": {},
     "output_type": "execute_result"
    }
   ],
   "source": [
    "set_config(display='diagram')\n",
    "\n",
    "ridge_randcv"
   ]
  },
  {
   "cell_type": "code",
   "execution_count": 16,
   "metadata": {
    "ExecuteTime": {
     "end_time": "2021-03-10T21:59:00.276752Z",
     "start_time": "2021-03-10T21:58:56.113877Z"
    }
   },
   "outputs": [
    {
     "name": "stdout",
     "output_type": "stream",
     "text": [
      "Fitting 5 folds for each of 20 candidates, totalling 100 fits\n"
     ]
    },
    {
     "name": "stderr",
     "output_type": "stream",
     "text": [
      "[Parallel(n_jobs=-1)]: Using backend LokyBackend with 12 concurrent workers.\n",
      "[Parallel(n_jobs=-1)]: Done  26 tasks      | elapsed:    2.3s\n",
      "[Parallel(n_jobs=-1)]: Done 100 out of 100 | elapsed:    3.3s finished\n"
     ]
    },
    {
     "data": {
      "text/html": [
       "<style>div.sk-top-container {color: black;background-color: white;}div.sk-toggleable {background-color: white;}label.sk-toggleable__label {cursor: pointer;display: block;width: 100%;margin-bottom: 0;padding: 0.2em 0.3em;box-sizing: border-box;text-align: center;}div.sk-toggleable__content {max-height: 0;max-width: 0;overflow: hidden;text-align: left;background-color: #f0f8ff;}div.sk-toggleable__content pre {margin: 0.2em;color: black;border-radius: 0.25em;background-color: #f0f8ff;}input.sk-toggleable__control:checked~div.sk-toggleable__content {max-height: 200px;max-width: 100%;overflow: auto;}div.sk-estimator input.sk-toggleable__control:checked~label.sk-toggleable__label {background-color: #d4ebff;}div.sk-label input.sk-toggleable__control:checked~label.sk-toggleable__label {background-color: #d4ebff;}input.sk-hidden--visually {border: 0;clip: rect(1px 1px 1px 1px);clip: rect(1px, 1px, 1px, 1px);height: 1px;margin: -1px;overflow: hidden;padding: 0;position: absolute;width: 1px;}div.sk-estimator {font-family: monospace;background-color: #f0f8ff;margin: 0.25em 0.25em;border: 1px dotted black;border-radius: 0.25em;box-sizing: border-box;}div.sk-estimator:hover {background-color: #d4ebff;}div.sk-parallel-item::after {content: \"\";width: 100%;border-bottom: 1px solid gray;flex-grow: 1;}div.sk-label:hover label.sk-toggleable__label {background-color: #d4ebff;}div.sk-serial::before {content: \"\";position: absolute;border-left: 1px solid gray;box-sizing: border-box;top: 2em;bottom: 0;left: 50%;}div.sk-serial {display: flex;flex-direction: column;align-items: center;background-color: white;}div.sk-item {z-index: 1;}div.sk-parallel {display: flex;align-items: stretch;justify-content: center;background-color: white;}div.sk-parallel-item {display: flex;flex-direction: column;position: relative;background-color: white;}div.sk-parallel-item:first-child::after {align-self: flex-end;width: 50%;}div.sk-parallel-item:last-child::after {align-self: flex-start;width: 50%;}div.sk-parallel-item:only-child::after {width: 0;}div.sk-dashed-wrapped {border: 1px dashed gray;margin: 0.2em;box-sizing: border-box;padding-bottom: 0.1em;background-color: white;position: relative;}div.sk-label label {font-family: monospace;font-weight: bold;background-color: white;display: inline-block;line-height: 1.2em;}div.sk-label-container {position: relative;z-index: 2;text-align: center;}div.sk-container {display: inline-block;position: relative;}</style><div class=\"sk-top-container\"><div class=\"sk-container\"><div class=\"sk-item sk-dashed-wrapped\"><div class=\"sk-label-container\"><div class=\"sk-label sk-toggleable\"><input class=\"sk-toggleable__control sk-hidden--visually\" id=\"bd9f8af0-0fe9-4b6a-829d-54d1ae6be0d9\" type=\"checkbox\" ><label class=\"sk-toggleable__label\" for=\"bd9f8af0-0fe9-4b6a-829d-54d1ae6be0d9\">RandomizedSearchCV</label><div class=\"sk-toggleable__content\"><pre>RandomizedSearchCV(cv=5,\n",
       "                   estimator=Pipeline(steps=[('preprocessor',\n",
       "                                              ColumnTransformer(transformers=[('categorical',\n",
       "                                                                               Pipeline(steps=[('ohe',\n",
       "                                                                                                OneHotEncoder(handle_unknown='ignore')),\n",
       "                                                                                               ('imputer',\n",
       "                                                                                                SimpleImputer(add_indicator=True,\n",
       "                                                                                                              strategy='most_frequent'))]),\n",
       "                                                                               ['mode',\n",
       "                                                                                'explicit',\n",
       "                                                                                'key',\n",
       "                                                                                'year']),\n",
       "                                                                              ('continuous',\n",
       "                                                                               Pipeline(steps=[('SS',\n",
       "                                                                                                StandardScaler()),\n",
       "                                                                                               ('KNN',\n",
       "                                                                                                KNNImp...\n",
       "                   param_distributions=[{'regre': [Ridge(alpha=0.2)],\n",
       "                                         'regre__alpha': array([0.05   , 0.05625, 0.0625 , 0.06875, 0.075  , 0.08125, 0.0875 ,\n",
       "       0.09375, 0.1    , 0.10625, 0.1125 , 0.11875, 0.125  , 0.13125,\n",
       "       0.1375 , 0.14375, 0.15   , 0.15625, 0.1625 , 0.16875, 0.175  ,\n",
       "       0.18125, 0.1875 , 0.19375, 0.2    ])}],\n",
       "                   random_state=42, refit='neg_root_mean_squared_error',\n",
       "                   scoring=['neg_root_mean_squared_error',\n",
       "                            'neg_mean_squared_error'],\n",
       "                   verbose=1)</pre></div></div></div><div class=\"sk-parallel\"><div class=\"sk-parallel-item\"><div class=\"sk-item\"><div class=\"sk-serial\"><div class=\"sk-item\"><div class=\"sk-serial\"><div class=\"sk-item sk-dashed-wrapped\"><div class=\"sk-label-container\"><div class=\"sk-label sk-toggleable\"><input class=\"sk-toggleable__control sk-hidden--visually\" id=\"4d46464f-0ea2-461b-aed1-b6739e360f92\" type=\"checkbox\" ><label class=\"sk-toggleable__label\" for=\"4d46464f-0ea2-461b-aed1-b6739e360f92\">preprocessor: ColumnTransformer</label><div class=\"sk-toggleable__content\"><pre>ColumnTransformer(transformers=[('categorical',\n",
       "                                 Pipeline(steps=[('ohe',\n",
       "                                                  OneHotEncoder(handle_unknown='ignore')),\n",
       "                                                 ('imputer',\n",
       "                                                  SimpleImputer(add_indicator=True,\n",
       "                                                                strategy='most_frequent'))]),\n",
       "                                 ['mode', 'explicit', 'key', 'year']),\n",
       "                                ('continuous',\n",
       "                                 Pipeline(steps=[('SS', StandardScaler()),\n",
       "                                                 ('KNN', KNNImputer())]),\n",
       "                                 ['acousticness', 'danceability', 'duration_ms',\n",
       "                                  'energy', 'instrumentalness', 'liveness',\n",
       "                                  'loudness', 'speechiness', 'tempo',\n",
       "                                  'valence'])])</pre></div></div></div><div class=\"sk-parallel\"><div class=\"sk-parallel-item\"><div class=\"sk-item\"><div class=\"sk-label-container\"><div class=\"sk-label sk-toggleable\"><input class=\"sk-toggleable__control sk-hidden--visually\" id=\"6ca9685f-b3d5-4159-b6e3-ed9140f9931f\" type=\"checkbox\" ><label class=\"sk-toggleable__label\" for=\"6ca9685f-b3d5-4159-b6e3-ed9140f9931f\">categorical</label><div class=\"sk-toggleable__content\"><pre>['mode', 'explicit', 'key', 'year']</pre></div></div></div><div class=\"sk-serial\"><div class=\"sk-item\"><div class=\"sk-serial\"><div class=\"sk-item\"><div class=\"sk-estimator sk-toggleable\"><input class=\"sk-toggleable__control sk-hidden--visually\" id=\"43160da2-0d3b-48b1-864d-2803e9cade35\" type=\"checkbox\" ><label class=\"sk-toggleable__label\" for=\"43160da2-0d3b-48b1-864d-2803e9cade35\">OneHotEncoder</label><div class=\"sk-toggleable__content\"><pre>OneHotEncoder(handle_unknown='ignore')</pre></div></div></div><div class=\"sk-item\"><div class=\"sk-estimator sk-toggleable\"><input class=\"sk-toggleable__control sk-hidden--visually\" id=\"4099439d-8dad-495d-9a1c-ac7bbb60aa72\" type=\"checkbox\" ><label class=\"sk-toggleable__label\" for=\"4099439d-8dad-495d-9a1c-ac7bbb60aa72\">SimpleImputer</label><div class=\"sk-toggleable__content\"><pre>SimpleImputer(add_indicator=True, strategy='most_frequent')</pre></div></div></div></div></div></div></div></div><div class=\"sk-parallel-item\"><div class=\"sk-item\"><div class=\"sk-label-container\"><div class=\"sk-label sk-toggleable\"><input class=\"sk-toggleable__control sk-hidden--visually\" id=\"7003e7d6-3236-4cb0-895a-80faeb424eb4\" type=\"checkbox\" ><label class=\"sk-toggleable__label\" for=\"7003e7d6-3236-4cb0-895a-80faeb424eb4\">continuous</label><div class=\"sk-toggleable__content\"><pre>['acousticness', 'danceability', 'duration_ms', 'energy', 'instrumentalness', 'liveness', 'loudness', 'speechiness', 'tempo', 'valence']</pre></div></div></div><div class=\"sk-serial\"><div class=\"sk-item\"><div class=\"sk-serial\"><div class=\"sk-item\"><div class=\"sk-estimator sk-toggleable\"><input class=\"sk-toggleable__control sk-hidden--visually\" id=\"27622a6f-fc03-460d-b77d-d3db2e90b95d\" type=\"checkbox\" ><label class=\"sk-toggleable__label\" for=\"27622a6f-fc03-460d-b77d-d3db2e90b95d\">StandardScaler</label><div class=\"sk-toggleable__content\"><pre>StandardScaler()</pre></div></div></div><div class=\"sk-item\"><div class=\"sk-estimator sk-toggleable\"><input class=\"sk-toggleable__control sk-hidden--visually\" id=\"65a690e1-1592-4e9c-88b8-0e19011b190e\" type=\"checkbox\" ><label class=\"sk-toggleable__label\" for=\"65a690e1-1592-4e9c-88b8-0e19011b190e\">KNNImputer</label><div class=\"sk-toggleable__content\"><pre>KNNImputer()</pre></div></div></div></div></div></div></div></div></div></div><div class=\"sk-item sk-dashed-wrapped\"><div class=\"sk-label-container\"><div class=\"sk-label sk-toggleable\"><input class=\"sk-toggleable__control sk-hidden--visually\" id=\"e3999fa9-1b6f-431b-8193-7c8349ab8339\" type=\"checkbox\" ><label class=\"sk-toggleable__label\" for=\"e3999fa9-1b6f-431b-8193-7c8349ab8339\">regre: TransformedTargetRegressor</label><div class=\"sk-toggleable__content\"><pre>TransformedTargetRegressor(regressor=DummyEstimator(),\n",
       "                           transformer=QuantileTransformer(n_quantiles=300,\n",
       "                                                           output_distribution='normal'))</pre></div></div></div><div class=\"sk-parallel\"><div class=\"sk-parallel-item\"><div class=\"sk-item\"><div class=\"sk-serial\"><div class=\"sk-item\"><div class=\"sk-estimator sk-toggleable\"><input class=\"sk-toggleable__control sk-hidden--visually\" id=\"8870e4c8-3c01-4558-b148-a3939bd52ae6\" type=\"checkbox\" ><label class=\"sk-toggleable__label\" for=\"8870e4c8-3c01-4558-b148-a3939bd52ae6\">DummyEstimator</label><div class=\"sk-toggleable__content\"><pre>DummyEstimator()</pre></div></div></div></div></div></div><div class=\"sk-parallel-item\"><div class=\"sk-item\"><div class=\"sk-serial\"><div class=\"sk-item\"><div class=\"sk-estimator sk-toggleable\"><input class=\"sk-toggleable__control sk-hidden--visually\" id=\"5ad1eee5-8c59-4d0a-b2c9-692667614ddc\" type=\"checkbox\" ><label class=\"sk-toggleable__label\" for=\"5ad1eee5-8c59-4d0a-b2c9-692667614ddc\">QuantileTransformer</label><div class=\"sk-toggleable__content\"><pre>QuantileTransformer(n_quantiles=300, output_distribution='normal')</pre></div></div></div></div></div></div></div></div></div></div></div></div></div></div></div></div></div>"
      ],
      "text/plain": [
       "RandomizedSearchCV(cv=5,\n",
       "                   estimator=Pipeline(steps=[('preprocessor',\n",
       "                                              ColumnTransformer(transformers=[('categorical',\n",
       "                                                                               Pipeline(steps=[('ohe',\n",
       "                                                                                                OneHotEncoder(handle_unknown='ignore')),\n",
       "                                                                                               ('imputer',\n",
       "                                                                                                SimpleImputer(add_indicator=True,\n",
       "                                                                                                              strategy='most_frequent'))]),\n",
       "                                                                               ['mode',\n",
       "                                                                                'explicit',\n",
       "                                                                                'key',\n",
       "                                                                                'year']),\n",
       "                                                                              ('continuous',\n",
       "                                                                               Pipeline(steps=[('SS',\n",
       "                                                                                                StandardScaler()),\n",
       "                                                                                               ('KNN',\n",
       "                                                                                                KNNImp...\n",
       "                   param_distributions=[{'regre': [Ridge(alpha=0.2)],\n",
       "                                         'regre__alpha': array([0.05   , 0.05625, 0.0625 , 0.06875, 0.075  , 0.08125, 0.0875 ,\n",
       "       0.09375, 0.1    , 0.10625, 0.1125 , 0.11875, 0.125  , 0.13125,\n",
       "       0.1375 , 0.14375, 0.15   , 0.15625, 0.1625 , 0.16875, 0.175  ,\n",
       "       0.18125, 0.1875 , 0.19375, 0.2    ])}],\n",
       "                   random_state=42, refit='neg_root_mean_squared_error',\n",
       "                   scoring=['neg_root_mean_squared_error',\n",
       "                            'neg_mean_squared_error'],\n",
       "                   verbose=1)"
      ]
     },
     "execution_count": 16,
     "metadata": {},
     "output_type": "execute_result"
    }
   ],
   "source": [
    "ridge_randcv.fit(X_train, y_train)"
   ]
  },
  {
   "cell_type": "code",
   "execution_count": 17,
   "metadata": {
    "ExecuteTime": {
     "end_time": "2021-03-10T21:59:00.298560Z",
     "start_time": "2021-03-10T21:59:00.283767Z"
    }
   },
   "outputs": [
    {
     "data": {
      "text/plain": [
       "{'mean_fit_time': array([0.11691213, 0.12135634, 0.10807405, 0.09795938, 0.08713331,\n",
       "        0.09153152, 0.0843576 , 0.0760396 , 0.09149022, 0.09423919,\n",
       "        0.11304483, 0.10027204, 0.07236214, 0.07728844, 0.10233407,\n",
       "        0.08321805, 0.08302345, 0.09682226, 0.10120916, 0.09311409]),\n",
       " 'std_fit_time': array([0.01026476, 0.00647312, 0.01099062, 0.00583488, 0.00393667,\n",
       "        0.0070495 , 0.00129407, 0.00450163, 0.01237163, 0.00423971,\n",
       "        0.00994228, 0.00181404, 0.00847471, 0.01121074, 0.00302421,\n",
       "        0.01699812, 0.00717003, 0.00744264, 0.00486178, 0.00722676]),\n",
       " 'mean_score_time': array([0.02476311, 0.02506642, 0.02419362, 0.01805582, 0.01906667,\n",
       "        0.01978865, 0.01528683, 0.0181602 , 0.0264122 , 0.02223821,\n",
       "        0.02761493, 0.01632314, 0.013134  , 0.02291751, 0.01949053,\n",
       "        0.01701741, 0.02088075, 0.02112212, 0.0197722 , 0.0146935 ]),\n",
       " 'std_score_time': array([0.0046893 , 0.00165524, 0.00472777, 0.00182401, 0.00154856,\n",
       "        0.00214748, 0.00183531, 0.00102775, 0.00747627, 0.00702494,\n",
       "        0.00596793, 0.00245733, 0.00061221, 0.0066394 , 0.00046863,\n",
       "        0.00627238, 0.00179899, 0.00369749, 0.0004742 , 0.00351821]),\n",
       " 'param_regre__alpha': masked_array(data=[0.1, 0.15000000000000002, 0.05, 0.19375000000000003,\n",
       "                    0.11875000000000002, 0.10625000000000001,\n",
       "                    0.13125000000000003, 0.05625, 0.18750000000000006,\n",
       "                    0.08125000000000002, 0.0625, 0.125,\n",
       "                    0.14375000000000002, 0.06875, 0.07500000000000001,\n",
       "                    0.17500000000000004, 0.15625000000000003,\n",
       "                    0.18125000000000002, 0.16250000000000003, 0.2],\n",
       "              mask=[False, False, False, False, False, False, False, False,\n",
       "                    False, False, False, False, False, False, False, False,\n",
       "                    False, False, False, False],\n",
       "        fill_value='?',\n",
       "             dtype=object),\n",
       " 'param_regre': masked_array(data=[Ridge(alpha=0.2), Ridge(alpha=0.2), Ridge(alpha=0.2),\n",
       "                    Ridge(alpha=0.2), Ridge(alpha=0.2), Ridge(alpha=0.2),\n",
       "                    Ridge(alpha=0.2), Ridge(alpha=0.2), Ridge(alpha=0.2),\n",
       "                    Ridge(alpha=0.2), Ridge(alpha=0.2), Ridge(alpha=0.2),\n",
       "                    Ridge(alpha=0.2), Ridge(alpha=0.2), Ridge(alpha=0.2),\n",
       "                    Ridge(alpha=0.2), Ridge(alpha=0.2), Ridge(alpha=0.2),\n",
       "                    Ridge(alpha=0.2), Ridge(alpha=0.2)],\n",
       "              mask=[False, False, False, False, False, False, False, False,\n",
       "                    False, False, False, False, False, False, False, False,\n",
       "                    False, False, False, False],\n",
       "        fill_value='?',\n",
       "             dtype=object),\n",
       " 'params': [{'regre__alpha': 0.1, 'regre': Ridge(alpha=0.2)},\n",
       "  {'regre__alpha': 0.15000000000000002, 'regre': Ridge(alpha=0.2)},\n",
       "  {'regre__alpha': 0.05, 'regre': Ridge(alpha=0.2)},\n",
       "  {'regre__alpha': 0.19375000000000003, 'regre': Ridge(alpha=0.2)},\n",
       "  {'regre__alpha': 0.11875000000000002, 'regre': Ridge(alpha=0.2)},\n",
       "  {'regre__alpha': 0.10625000000000001, 'regre': Ridge(alpha=0.2)},\n",
       "  {'regre__alpha': 0.13125000000000003, 'regre': Ridge(alpha=0.2)},\n",
       "  {'regre__alpha': 0.05625, 'regre': Ridge(alpha=0.2)},\n",
       "  {'regre__alpha': 0.18750000000000006, 'regre': Ridge(alpha=0.2)},\n",
       "  {'regre__alpha': 0.08125000000000002, 'regre': Ridge(alpha=0.2)},\n",
       "  {'regre__alpha': 0.0625, 'regre': Ridge(alpha=0.2)},\n",
       "  {'regre__alpha': 0.125, 'regre': Ridge(alpha=0.2)},\n",
       "  {'regre__alpha': 0.14375000000000002, 'regre': Ridge(alpha=0.2)},\n",
       "  {'regre__alpha': 0.06875, 'regre': Ridge(alpha=0.2)},\n",
       "  {'regre__alpha': 0.07500000000000001, 'regre': Ridge(alpha=0.2)},\n",
       "  {'regre__alpha': 0.17500000000000004, 'regre': Ridge(alpha=0.2)},\n",
       "  {'regre__alpha': 0.15625000000000003, 'regre': Ridge(alpha=0.2)},\n",
       "  {'regre__alpha': 0.18125000000000002, 'regre': Ridge(alpha=0.2)},\n",
       "  {'regre__alpha': 0.16250000000000003, 'regre': Ridge(alpha=0.2)},\n",
       "  {'regre__alpha': 0.2, 'regre': Ridge(alpha=0.2)}],\n",
       " 'split0_test_neg_root_mean_squared_error': array([-25.13471691, -25.13471449, -25.13471932, -25.13471238,\n",
       "        -25.134716  , -25.1347166 , -25.1347154 , -25.13471902,\n",
       "        -25.13471268, -25.13471781, -25.13471872, -25.1347157 ,\n",
       "        -25.13471479, -25.13471842, -25.13471811, -25.13471328,\n",
       "        -25.13471419, -25.13471298, -25.13471389, -25.13471207]),\n",
       " 'split1_test_neg_root_mean_squared_error': array([-25.40876616, -25.40876459, -25.40876774, -25.40876321,\n",
       "        -25.40876557, -25.40876597, -25.40876518, -25.40876754,\n",
       "        -25.40876341, -25.40876675, -25.40876734, -25.40876538,\n",
       "        -25.40876479, -25.40876715, -25.40876695, -25.4087638 ,\n",
       "        -25.40876439, -25.40876361, -25.4087642 , -25.40876302]),\n",
       " 'split2_test_neg_root_mean_squared_error': array([-25.30871383, -25.30871258, -25.30871508, -25.30871149,\n",
       "        -25.30871336, -25.30871367, -25.30871305, -25.30871492,\n",
       "        -25.30871165, -25.3087143 , -25.30871477, -25.3087132 ,\n",
       "        -25.30871274, -25.30871461, -25.30871445, -25.30871196,\n",
       "        -25.30871242, -25.3087118 , -25.30871227, -25.30871133]),\n",
       " 'split3_test_neg_root_mean_squared_error': array([-25.2510784 , -25.25107397, -25.25108282, -25.2510701 ,\n",
       "        -25.25107674, -25.25107784, -25.25107563, -25.25108227,\n",
       "        -25.25107065, -25.25108006, -25.25108172, -25.25107618,\n",
       "        -25.25107452, -25.25108116, -25.25108061, -25.25107176,\n",
       "        -25.25107342, -25.2510712 , -25.25107286, -25.25106954]),\n",
       " 'split4_test_neg_root_mean_squared_error': array([-25.19767049, -25.19766933, -25.19767166, -25.1976683 ,\n",
       "        -25.19767006, -25.19767035, -25.19766976, -25.19767152,\n",
       "        -25.19766845, -25.19767093, -25.19767137, -25.19766991,\n",
       "        -25.19766947, -25.19767122, -25.19767108, -25.19766874,\n",
       "        -25.19766918, -25.1976686 , -25.19766903, -25.19766816]),\n",
       " 'mean_test_neg_root_mean_squared_error': array([-25.26018916, -25.26018699, -25.26019133, -25.2601851 ,\n",
       "        -25.26018834, -25.26018889, -25.2601878 , -25.26019105,\n",
       "        -25.26018537, -25.26018997, -25.26019078, -25.26018807,\n",
       "        -25.26018726, -25.26019051, -25.26019024, -25.26018591,\n",
       "        -25.26018672, -25.26018564, -25.26018645, -25.26018483]),\n",
       " 'std_test_neg_root_mean_squared_error': array([0.09398366, 0.09398392, 0.0939834 , 0.09398415, 0.09398376,\n",
       "        0.0939837 , 0.09398383, 0.09398344, 0.09398412, 0.09398357,\n",
       "        0.09398347, 0.09398379, 0.09398389, 0.0939835 , 0.09398353,\n",
       "        0.09398405, 0.09398396, 0.09398409, 0.09398399, 0.09398418]),\n",
       " 'rank_test_neg_root_mean_squared_error': array([14,  8, 20,  2, 12, 13, 10, 19,  3, 15, 18, 11,  9, 17, 16,  5,  7,\n",
       "         4,  6,  1], dtype=int32),\n",
       " 'split0_test_neg_mean_squared_error': array([-631.75399394, -631.75387246, -631.75411548, -631.7537662 ,\n",
       "        -631.75394838, -631.75397875, -631.75391801, -631.75410028,\n",
       "        -631.75378138, -631.75403951, -631.75408509, -631.75393319,\n",
       "        -631.75388764, -631.75406989, -631.7540547 , -631.75381173,\n",
       "        -631.75385727, -631.75379656, -631.75384209, -631.75375102]),\n",
       " 'split1_test_neg_mean_squared_error': array([-645.60539796, -645.60531801, -645.60547794, -645.60524809,\n",
       "        -645.60536798, -645.60538796, -645.60534799, -645.60546794,\n",
       "        -645.60525808, -645.60542795, -645.60545794, -645.60535798,\n",
       "        -645.605328  , -645.60544794, -645.60543794, -645.60527805,\n",
       "        -645.60530802, -645.60526806, -645.60529803, -645.6052381 ]),\n",
       " 'split2_test_neg_mean_squared_error': array([-640.53099564, -640.53093246, -640.53105888, -640.53087725,\n",
       "        -640.53097194, -640.53098774, -640.53095614, -640.53105097,\n",
       "        -640.53088513, -640.53101935, -640.53104307, -640.53096404,\n",
       "        -640.53094036, -640.53103516, -640.53102725, -640.5309009 ,\n",
       "        -640.53092457, -640.53089302, -640.53091668, -640.53086936]),\n",
       " 'split3_test_neg_mean_squared_error': array([-637.61696017, -637.61673656, -637.61718383, -637.61654096,\n",
       "        -637.61687631, -637.61693221, -637.61682041, -637.61715587,\n",
       "        -637.6165689 , -637.61704403, -637.61712791, -637.61684836,\n",
       "        -637.61676451, -637.61709995, -637.61707199, -637.61662478,\n",
       "        -637.61670862, -637.61659684, -637.61668067, -637.61651302]),\n",
       " 'split4_test_neg_mean_squared_error': array([-634.9225983 , -634.92253944, -634.92265723, -634.92248799,\n",
       "        -634.92257622, -634.92259094, -634.9225615 , -634.92264986,\n",
       "        -634.92249533, -634.92262039, -634.92264249, -634.92256886,\n",
       "        -634.92254679, -634.92263512, -634.92262776, -634.92251003,\n",
       "        -634.92253208, -634.92250268, -634.92252473, -634.92248064]),\n",
       " 'mean_test_neg_mean_squared_error': array([-638.0859892 , -638.08587979, -638.08609867, -638.0857841 ,\n",
       "        -638.08594816, -638.08597552, -638.08592081, -638.08608498,\n",
       "        -638.08579776, -638.08603025, -638.0860713 , -638.08593449,\n",
       "        -638.08589346, -638.08605761, -638.08604393, -638.0858251 ,\n",
       "        -638.08586611, -638.08581143, -638.08585244, -638.08577043]),\n",
       " 'std_test_neg_mean_squared_error': array([4.75059488, 4.75060771, 4.75058205, 4.75061893, 4.7505997 ,\n",
       "        4.75059649, 4.7506029 , 4.75058365, 4.75061733, 4.75059007,\n",
       "        4.75058526, 4.7506013 , 4.75060611, 4.75058686, 4.75058847,\n",
       "        4.75061413, 4.75060932, 4.75061573, 4.75061092, 4.75062054]),\n",
       " 'rank_test_neg_mean_squared_error': array([14,  8, 20,  2, 12, 13, 10, 19,  3, 15, 18, 11,  9, 17, 16,  5,  7,\n",
       "         4,  6,  1], dtype=int32)}"
      ]
     },
     "execution_count": 17,
     "metadata": {},
     "output_type": "execute_result"
    }
   ],
   "source": [
    "### Inspecting all cross-validation results and choose best score (RMSE) and best params.\n",
    "ridge_randcv.cv_results_"
   ]
  },
  {
   "cell_type": "code",
   "execution_count": 18,
   "metadata": {
    "ExecuteTime": {
     "end_time": "2021-03-10T21:59:00.304886Z",
     "start_time": "2021-03-10T21:59:00.302088Z"
    }
   },
   "outputs": [
    {
     "data": {
      "text/plain": [
       "-25.26018482519345"
      ]
     },
     "execution_count": 18,
     "metadata": {},
     "output_type": "execute_result"
    }
   ],
   "source": [
    "ridge_randcv.best_score_"
   ]
  },
  {
   "cell_type": "code",
   "execution_count": 19,
   "metadata": {
    "ExecuteTime": {
     "end_time": "2021-03-10T21:59:00.309236Z",
     "start_time": "2021-03-10T21:59:00.306264Z"
    }
   },
   "outputs": [
    {
     "data": {
      "text/plain": [
       "{'regre__alpha': 0.2, 'regre': Ridge(alpha=0.2)}"
      ]
     },
     "execution_count": 19,
     "metadata": {},
     "output_type": "execute_result"
    }
   ],
   "source": [
    "ridge_randcv.best_params_"
   ]
  },
  {
   "cell_type": "markdown",
   "metadata": {
    "ExecuteTime": {
     "end_time": "2021-03-08T02:30:14.990630Z",
     "start_time": "2021-03-08T02:30:14.976515Z"
    }
   },
   "source": [
    "### HuberRegressor"
   ]
  },
  {
   "cell_type": "markdown",
   "metadata": {},
   "source": [
    "Similar setup as Ridge Regressor, randomized search cross validation is used to find the best hyperparameters for huber. For this run, two hyperaparemters is searched through: Alphas and Eps. \n",
    "\n",
    "Alphas - For genalization <br>\n",
    "Eps - For robustness to outliers. The smaller it is, the more robust it is. <br>\n",
    "Max_iter - this is set as 1500 in order for huber to converge to results. However, lbfgs can sometimes fail, but ignoring warnings. "
   ]
  },
  {
   "cell_type": "code",
   "execution_count": 20,
   "metadata": {
    "ExecuteTime": {
     "end_time": "2021-03-10T21:59:00.314401Z",
     "start_time": "2021-03-10T21:59:00.310460Z"
    }
   },
   "outputs": [],
   "source": [
    "# Create space of candidate learning algorithms and their hyperparameters\n",
    "alphas = [0.0001, 0.01, 0.1, 1, 10] ## Similar to Ridge, this is for genalization\n",
    "eps = [1.1, 1.2, 1.3, 1.4, 1.5] ## This is for adjusting how robust HuberRegressor is to outliers. \n",
    "search_space = [{'regre': [HuberRegressor(max_iter=1500)], #using max_iter as 1500 for converging results\n",
    "                 'regre__alpha': alphas,\n",
    "                 'regre__epsilon': eps}] \n",
    "\n",
    "huber_final_pipe = Pipeline([('preprocessor', preprocessor),\n",
    "                ('regre', TransformedTargetRegressor(regressor=DummyEstimator(),\n",
    "                                                         transformer=QuantileTransformer(n_quantiles=300,\n",
    "                                                         output_distribution='normal')))])\n",
    "huber_randcv = RandomizedSearchCV(estimator=huber_final_pipe, \n",
    "                                 param_distributions=search_space, \n",
    "                                 n_iter=10,\n",
    "                                 cv=5,\n",
    "                                 scoring=['neg_root_mean_squared_error', 'neg_mean_squared_error'],\n",
    "                                 n_jobs=-1,\n",
    "                                 verbose=1,\n",
    "                                 random_state=42,\n",
    "                                 refit='neg_root_mean_squared_error')"
   ]
  },
  {
   "cell_type": "code",
   "execution_count": 21,
   "metadata": {
    "ExecuteTime": {
     "end_time": "2021-03-10T21:59:06.627535Z",
     "start_time": "2021-03-10T21:59:00.315763Z"
    }
   },
   "outputs": [
    {
     "name": "stdout",
     "output_type": "stream",
     "text": [
      "Fitting 5 folds for each of 10 candidates, totalling 50 fits\n"
     ]
    },
    {
     "name": "stderr",
     "output_type": "stream",
     "text": [
      "[Parallel(n_jobs=-1)]: Using backend LokyBackend with 12 concurrent workers.\n",
      "[Parallel(n_jobs=-1)]: Done  26 tasks      | elapsed:    3.3s\n",
      "[Parallel(n_jobs=-1)]: Done  50 out of  50 | elapsed:    5.3s finished\n"
     ]
    },
    {
     "data": {
      "text/html": [
       "<style>div.sk-top-container {color: black;background-color: white;}div.sk-toggleable {background-color: white;}label.sk-toggleable__label {cursor: pointer;display: block;width: 100%;margin-bottom: 0;padding: 0.2em 0.3em;box-sizing: border-box;text-align: center;}div.sk-toggleable__content {max-height: 0;max-width: 0;overflow: hidden;text-align: left;background-color: #f0f8ff;}div.sk-toggleable__content pre {margin: 0.2em;color: black;border-radius: 0.25em;background-color: #f0f8ff;}input.sk-toggleable__control:checked~div.sk-toggleable__content {max-height: 200px;max-width: 100%;overflow: auto;}div.sk-estimator input.sk-toggleable__control:checked~label.sk-toggleable__label {background-color: #d4ebff;}div.sk-label input.sk-toggleable__control:checked~label.sk-toggleable__label {background-color: #d4ebff;}input.sk-hidden--visually {border: 0;clip: rect(1px 1px 1px 1px);clip: rect(1px, 1px, 1px, 1px);height: 1px;margin: -1px;overflow: hidden;padding: 0;position: absolute;width: 1px;}div.sk-estimator {font-family: monospace;background-color: #f0f8ff;margin: 0.25em 0.25em;border: 1px dotted black;border-radius: 0.25em;box-sizing: border-box;}div.sk-estimator:hover {background-color: #d4ebff;}div.sk-parallel-item::after {content: \"\";width: 100%;border-bottom: 1px solid gray;flex-grow: 1;}div.sk-label:hover label.sk-toggleable__label {background-color: #d4ebff;}div.sk-serial::before {content: \"\";position: absolute;border-left: 1px solid gray;box-sizing: border-box;top: 2em;bottom: 0;left: 50%;}div.sk-serial {display: flex;flex-direction: column;align-items: center;background-color: white;}div.sk-item {z-index: 1;}div.sk-parallel {display: flex;align-items: stretch;justify-content: center;background-color: white;}div.sk-parallel-item {display: flex;flex-direction: column;position: relative;background-color: white;}div.sk-parallel-item:first-child::after {align-self: flex-end;width: 50%;}div.sk-parallel-item:last-child::after {align-self: flex-start;width: 50%;}div.sk-parallel-item:only-child::after {width: 0;}div.sk-dashed-wrapped {border: 1px dashed gray;margin: 0.2em;box-sizing: border-box;padding-bottom: 0.1em;background-color: white;position: relative;}div.sk-label label {font-family: monospace;font-weight: bold;background-color: white;display: inline-block;line-height: 1.2em;}div.sk-label-container {position: relative;z-index: 2;text-align: center;}div.sk-container {display: inline-block;position: relative;}</style><div class=\"sk-top-container\"><div class=\"sk-container\"><div class=\"sk-item sk-dashed-wrapped\"><div class=\"sk-label-container\"><div class=\"sk-label sk-toggleable\"><input class=\"sk-toggleable__control sk-hidden--visually\" id=\"55f64060-1385-434e-b405-33fc8a5f7653\" type=\"checkbox\" ><label class=\"sk-toggleable__label\" for=\"55f64060-1385-434e-b405-33fc8a5f7653\">RandomizedSearchCV</label><div class=\"sk-toggleable__content\"><pre>RandomizedSearchCV(cv=5,\n",
       "                   estimator=Pipeline(steps=[('preprocessor',\n",
       "                                              ColumnTransformer(transformers=[('categorical',\n",
       "                                                                               Pipeline(steps=[('ohe',\n",
       "                                                                                                OneHotEncoder(handle_unknown='ignore')),\n",
       "                                                                                               ('imputer',\n",
       "                                                                                                SimpleImputer(add_indicator=True,\n",
       "                                                                                                              strategy='most_frequent'))]),\n",
       "                                                                               ['mode',\n",
       "                                                                                'explicit',\n",
       "                                                                                'key',\n",
       "                                                                                'year']),\n",
       "                                                                              ('continuous',\n",
       "                                                                               Pipeline(steps=[('SS',\n",
       "                                                                                                StandardScaler()),\n",
       "                                                                                               ('KNN',\n",
       "                                                                                                KNNImp...\n",
       "                                                                         transformer=QuantileTransformer(n_quantiles=300,\n",
       "                                                                                                         output_distribution='normal')))]),\n",
       "                   n_jobs=-1,\n",
       "                   param_distributions=[{'regre': [HuberRegressor(alpha=10,\n",
       "                                                                  epsilon=1.4,\n",
       "                                                                  max_iter=1500)],\n",
       "                                         'regre__alpha': [0.0001, 0.01, 0.1, 1,\n",
       "                                                          10],\n",
       "                                         'regre__epsilon': [1.1, 1.2, 1.3, 1.4,\n",
       "                                                            1.5]}],\n",
       "                   random_state=42, refit='neg_root_mean_squared_error',\n",
       "                   scoring=['neg_root_mean_squared_error',\n",
       "                            'neg_mean_squared_error'],\n",
       "                   verbose=1)</pre></div></div></div><div class=\"sk-parallel\"><div class=\"sk-parallel-item\"><div class=\"sk-item\"><div class=\"sk-serial\"><div class=\"sk-item\"><div class=\"sk-serial\"><div class=\"sk-item sk-dashed-wrapped\"><div class=\"sk-label-container\"><div class=\"sk-label sk-toggleable\"><input class=\"sk-toggleable__control sk-hidden--visually\" id=\"504f287b-5609-4fd0-b6a9-33af46b38328\" type=\"checkbox\" ><label class=\"sk-toggleable__label\" for=\"504f287b-5609-4fd0-b6a9-33af46b38328\">preprocessor: ColumnTransformer</label><div class=\"sk-toggleable__content\"><pre>ColumnTransformer(transformers=[('categorical',\n",
       "                                 Pipeline(steps=[('ohe',\n",
       "                                                  OneHotEncoder(handle_unknown='ignore')),\n",
       "                                                 ('imputer',\n",
       "                                                  SimpleImputer(add_indicator=True,\n",
       "                                                                strategy='most_frequent'))]),\n",
       "                                 ['mode', 'explicit', 'key', 'year']),\n",
       "                                ('continuous',\n",
       "                                 Pipeline(steps=[('SS', StandardScaler()),\n",
       "                                                 ('KNN', KNNImputer())]),\n",
       "                                 ['acousticness', 'danceability', 'duration_ms',\n",
       "                                  'energy', 'instrumentalness', 'liveness',\n",
       "                                  'loudness', 'speechiness', 'tempo',\n",
       "                                  'valence'])])</pre></div></div></div><div class=\"sk-parallel\"><div class=\"sk-parallel-item\"><div class=\"sk-item\"><div class=\"sk-label-container\"><div class=\"sk-label sk-toggleable\"><input class=\"sk-toggleable__control sk-hidden--visually\" id=\"615deb67-8215-4a0d-8522-22eab62a7909\" type=\"checkbox\" ><label class=\"sk-toggleable__label\" for=\"615deb67-8215-4a0d-8522-22eab62a7909\">categorical</label><div class=\"sk-toggleable__content\"><pre>['mode', 'explicit', 'key', 'year']</pre></div></div></div><div class=\"sk-serial\"><div class=\"sk-item\"><div class=\"sk-serial\"><div class=\"sk-item\"><div class=\"sk-estimator sk-toggleable\"><input class=\"sk-toggleable__control sk-hidden--visually\" id=\"bbbb153b-206e-4cd6-93b6-2cf04e5bd42a\" type=\"checkbox\" ><label class=\"sk-toggleable__label\" for=\"bbbb153b-206e-4cd6-93b6-2cf04e5bd42a\">OneHotEncoder</label><div class=\"sk-toggleable__content\"><pre>OneHotEncoder(handle_unknown='ignore')</pre></div></div></div><div class=\"sk-item\"><div class=\"sk-estimator sk-toggleable\"><input class=\"sk-toggleable__control sk-hidden--visually\" id=\"e5d11bcb-bd64-4f59-a706-3a5d699ed160\" type=\"checkbox\" ><label class=\"sk-toggleable__label\" for=\"e5d11bcb-bd64-4f59-a706-3a5d699ed160\">SimpleImputer</label><div class=\"sk-toggleable__content\"><pre>SimpleImputer(add_indicator=True, strategy='most_frequent')</pre></div></div></div></div></div></div></div></div><div class=\"sk-parallel-item\"><div class=\"sk-item\"><div class=\"sk-label-container\"><div class=\"sk-label sk-toggleable\"><input class=\"sk-toggleable__control sk-hidden--visually\" id=\"cece45cc-22a7-4190-a1df-963d49d0e447\" type=\"checkbox\" ><label class=\"sk-toggleable__label\" for=\"cece45cc-22a7-4190-a1df-963d49d0e447\">continuous</label><div class=\"sk-toggleable__content\"><pre>['acousticness', 'danceability', 'duration_ms', 'energy', 'instrumentalness', 'liveness', 'loudness', 'speechiness', 'tempo', 'valence']</pre></div></div></div><div class=\"sk-serial\"><div class=\"sk-item\"><div class=\"sk-serial\"><div class=\"sk-item\"><div class=\"sk-estimator sk-toggleable\"><input class=\"sk-toggleable__control sk-hidden--visually\" id=\"4d495140-6352-4201-8716-4dbf20c897a6\" type=\"checkbox\" ><label class=\"sk-toggleable__label\" for=\"4d495140-6352-4201-8716-4dbf20c897a6\">StandardScaler</label><div class=\"sk-toggleable__content\"><pre>StandardScaler()</pre></div></div></div><div class=\"sk-item\"><div class=\"sk-estimator sk-toggleable\"><input class=\"sk-toggleable__control sk-hidden--visually\" id=\"e5e4e6ca-c29f-4a34-97d3-82963340b259\" type=\"checkbox\" ><label class=\"sk-toggleable__label\" for=\"e5e4e6ca-c29f-4a34-97d3-82963340b259\">KNNImputer</label><div class=\"sk-toggleable__content\"><pre>KNNImputer()</pre></div></div></div></div></div></div></div></div></div></div><div class=\"sk-item sk-dashed-wrapped\"><div class=\"sk-label-container\"><div class=\"sk-label sk-toggleable\"><input class=\"sk-toggleable__control sk-hidden--visually\" id=\"9080508b-5b8d-4581-8e74-0c147c567b05\" type=\"checkbox\" ><label class=\"sk-toggleable__label\" for=\"9080508b-5b8d-4581-8e74-0c147c567b05\">regre: TransformedTargetRegressor</label><div class=\"sk-toggleable__content\"><pre>TransformedTargetRegressor(regressor=DummyEstimator(),\n",
       "                           transformer=QuantileTransformer(n_quantiles=300,\n",
       "                                                           output_distribution='normal'))</pre></div></div></div><div class=\"sk-parallel\"><div class=\"sk-parallel-item\"><div class=\"sk-item\"><div class=\"sk-serial\"><div class=\"sk-item\"><div class=\"sk-estimator sk-toggleable\"><input class=\"sk-toggleable__control sk-hidden--visually\" id=\"ae8e8b88-4175-470b-b345-8f619985017c\" type=\"checkbox\" ><label class=\"sk-toggleable__label\" for=\"ae8e8b88-4175-470b-b345-8f619985017c\">DummyEstimator</label><div class=\"sk-toggleable__content\"><pre>DummyEstimator()</pre></div></div></div></div></div></div><div class=\"sk-parallel-item\"><div class=\"sk-item\"><div class=\"sk-serial\"><div class=\"sk-item\"><div class=\"sk-estimator sk-toggleable\"><input class=\"sk-toggleable__control sk-hidden--visually\" id=\"4cae474f-ce02-4b50-800c-66228689f902\" type=\"checkbox\" ><label class=\"sk-toggleable__label\" for=\"4cae474f-ce02-4b50-800c-66228689f902\">QuantileTransformer</label><div class=\"sk-toggleable__content\"><pre>QuantileTransformer(n_quantiles=300, output_distribution='normal')</pre></div></div></div></div></div></div></div></div></div></div></div></div></div></div></div></div></div>"
      ],
      "text/plain": [
       "RandomizedSearchCV(cv=5,\n",
       "                   estimator=Pipeline(steps=[('preprocessor',\n",
       "                                              ColumnTransformer(transformers=[('categorical',\n",
       "                                                                               Pipeline(steps=[('ohe',\n",
       "                                                                                                OneHotEncoder(handle_unknown='ignore')),\n",
       "                                                                                               ('imputer',\n",
       "                                                                                                SimpleImputer(add_indicator=True,\n",
       "                                                                                                              strategy='most_frequent'))]),\n",
       "                                                                               ['mode',\n",
       "                                                                                'explicit',\n",
       "                                                                                'key',\n",
       "                                                                                'year']),\n",
       "                                                                              ('continuous',\n",
       "                                                                               Pipeline(steps=[('SS',\n",
       "                                                                                                StandardScaler()),\n",
       "                                                                                               ('KNN',\n",
       "                                                                                                KNNImp...\n",
       "                                                                         transformer=QuantileTransformer(n_quantiles=300,\n",
       "                                                                                                         output_distribution='normal')))]),\n",
       "                   n_jobs=-1,\n",
       "                   param_distributions=[{'regre': [HuberRegressor(alpha=10,\n",
       "                                                                  epsilon=1.4,\n",
       "                                                                  max_iter=1500)],\n",
       "                                         'regre__alpha': [0.0001, 0.01, 0.1, 1,\n",
       "                                                          10],\n",
       "                                         'regre__epsilon': [1.1, 1.2, 1.3, 1.4,\n",
       "                                                            1.5]}],\n",
       "                   random_state=42, refit='neg_root_mean_squared_error',\n",
       "                   scoring=['neg_root_mean_squared_error',\n",
       "                            'neg_mean_squared_error'],\n",
       "                   verbose=1)"
      ]
     },
     "execution_count": 21,
     "metadata": {},
     "output_type": "execute_result"
    }
   ],
   "source": [
    "huber_randcv.fit(X_train, y_train)"
   ]
  },
  {
   "cell_type": "code",
   "execution_count": 22,
   "metadata": {
    "ExecuteTime": {
     "end_time": "2021-03-10T21:59:06.633359Z",
     "start_time": "2021-03-10T21:59:06.629365Z"
    }
   },
   "outputs": [
    {
     "data": {
      "text/plain": [
       "{'regre__epsilon': 1.4,\n",
       " 'regre__alpha': 10,\n",
       " 'regre': HuberRegressor(alpha=10, epsilon=1.4, max_iter=1500)}"
      ]
     },
     "execution_count": 22,
     "metadata": {},
     "output_type": "execute_result"
    }
   ],
   "source": [
    "huber_randcv.best_params_"
   ]
  },
  {
   "cell_type": "code",
   "execution_count": 23,
   "metadata": {
    "ExecuteTime": {
     "end_time": "2021-03-10T21:59:06.637220Z",
     "start_time": "2021-03-10T21:59:06.634680Z"
    }
   },
   "outputs": [
    {
     "data": {
      "text/plain": [
       "-25.34422416553995"
      ]
     },
     "execution_count": 23,
     "metadata": {},
     "output_type": "execute_result"
    }
   ],
   "source": [
    "huber_randcv.best_score_"
   ]
  },
  {
   "cell_type": "markdown",
   "metadata": {},
   "source": [
    "### Second Run HuberRegressor"
   ]
  },
  {
   "cell_type": "markdown",
   "metadata": {},
   "source": [
    "A second fit of Huber Regressor is conducted to fit hyperparameters in a tighter search space. This CV has the same paramters as the first Huber analysis."
   ]
  },
  {
   "cell_type": "code",
   "execution_count": 24,
   "metadata": {
    "ExecuteTime": {
     "end_time": "2021-03-10T21:59:06.644307Z",
     "start_time": "2021-03-10T21:59:06.638426Z"
    }
   },
   "outputs": [],
   "source": [
    "# Create space of candidate learning algorithms and their hyperparameters\n",
    "alphas = np.linspace(0.0001, 0.001, 10) # Huber requires the genearlization to be lower than Ridge, \n",
    "                                        # trying range of 0.0001 to 0.001\n",
    "eps = np.linspace(1.4, 1.6, 10) # This is for adjusting how robust HuberRegressor is to outliers. \n",
    "search_space = [{'regre': [HuberRegressor(max_iter=1500)], # using max_iter as 1500 for converging results\n",
    "                 'regre__alpha': alphas,\n",
    "                 'regre__epsilon': eps}] \n",
    "\n",
    "huber_final_pipe = Pipeline([('preprocessor', preprocessor),\n",
    "                ('regre', TransformedTargetRegressor(regressor=DummyEstimator(),\n",
    "                                                         transformer=QuantileTransformer(n_quantiles=300,\n",
    "                                                         output_distribution='normal')))])\n",
    "huber_randcv2 = RandomizedSearchCV(estimator=huber_final_pipe, \n",
    "                                 param_distributions=search_space, \n",
    "                                 n_iter=10,\n",
    "                                 cv=5,\n",
    "                                 scoring=['neg_root_mean_squared_error', 'neg_mean_squared_error'],\n",
    "                                 n_jobs=-1,\n",
    "                                 verbose=1,\n",
    "                                 random_state=42,\n",
    "                                 refit='neg_root_mean_squared_error')"
   ]
  },
  {
   "cell_type": "code",
   "execution_count": 25,
   "metadata": {
    "ExecuteTime": {
     "end_time": "2021-03-10T21:59:11.959186Z",
     "start_time": "2021-03-10T21:59:06.645941Z"
    }
   },
   "outputs": [
    {
     "name": "stdout",
     "output_type": "stream",
     "text": [
      "Fitting 5 folds for each of 10 candidates, totalling 50 fits\n"
     ]
    },
    {
     "name": "stderr",
     "output_type": "stream",
     "text": [
      "[Parallel(n_jobs=-1)]: Using backend LokyBackend with 12 concurrent workers.\n",
      "[Parallel(n_jobs=-1)]: Done  26 tasks      | elapsed:    2.9s\n",
      "[Parallel(n_jobs=-1)]: Done  50 out of  50 | elapsed:    4.3s finished\n"
     ]
    },
    {
     "data": {
      "text/html": [
       "<style>div.sk-top-container {color: black;background-color: white;}div.sk-toggleable {background-color: white;}label.sk-toggleable__label {cursor: pointer;display: block;width: 100%;margin-bottom: 0;padding: 0.2em 0.3em;box-sizing: border-box;text-align: center;}div.sk-toggleable__content {max-height: 0;max-width: 0;overflow: hidden;text-align: left;background-color: #f0f8ff;}div.sk-toggleable__content pre {margin: 0.2em;color: black;border-radius: 0.25em;background-color: #f0f8ff;}input.sk-toggleable__control:checked~div.sk-toggleable__content {max-height: 200px;max-width: 100%;overflow: auto;}div.sk-estimator input.sk-toggleable__control:checked~label.sk-toggleable__label {background-color: #d4ebff;}div.sk-label input.sk-toggleable__control:checked~label.sk-toggleable__label {background-color: #d4ebff;}input.sk-hidden--visually {border: 0;clip: rect(1px 1px 1px 1px);clip: rect(1px, 1px, 1px, 1px);height: 1px;margin: -1px;overflow: hidden;padding: 0;position: absolute;width: 1px;}div.sk-estimator {font-family: monospace;background-color: #f0f8ff;margin: 0.25em 0.25em;border: 1px dotted black;border-radius: 0.25em;box-sizing: border-box;}div.sk-estimator:hover {background-color: #d4ebff;}div.sk-parallel-item::after {content: \"\";width: 100%;border-bottom: 1px solid gray;flex-grow: 1;}div.sk-label:hover label.sk-toggleable__label {background-color: #d4ebff;}div.sk-serial::before {content: \"\";position: absolute;border-left: 1px solid gray;box-sizing: border-box;top: 2em;bottom: 0;left: 50%;}div.sk-serial {display: flex;flex-direction: column;align-items: center;background-color: white;}div.sk-item {z-index: 1;}div.sk-parallel {display: flex;align-items: stretch;justify-content: center;background-color: white;}div.sk-parallel-item {display: flex;flex-direction: column;position: relative;background-color: white;}div.sk-parallel-item:first-child::after {align-self: flex-end;width: 50%;}div.sk-parallel-item:last-child::after {align-self: flex-start;width: 50%;}div.sk-parallel-item:only-child::after {width: 0;}div.sk-dashed-wrapped {border: 1px dashed gray;margin: 0.2em;box-sizing: border-box;padding-bottom: 0.1em;background-color: white;position: relative;}div.sk-label label {font-family: monospace;font-weight: bold;background-color: white;display: inline-block;line-height: 1.2em;}div.sk-label-container {position: relative;z-index: 2;text-align: center;}div.sk-container {display: inline-block;position: relative;}</style><div class=\"sk-top-container\"><div class=\"sk-container\"><div class=\"sk-item sk-dashed-wrapped\"><div class=\"sk-label-container\"><div class=\"sk-label sk-toggleable\"><input class=\"sk-toggleable__control sk-hidden--visually\" id=\"7940e9ac-8add-4137-ae11-dc5ecac165f4\" type=\"checkbox\" ><label class=\"sk-toggleable__label\" for=\"7940e9ac-8add-4137-ae11-dc5ecac165f4\">RandomizedSearchCV</label><div class=\"sk-toggleable__content\"><pre>RandomizedSearchCV(cv=5,\n",
       "                   estimator=Pipeline(steps=[('preprocessor',\n",
       "                                              ColumnTransformer(transformers=[('categorical',\n",
       "                                                                               Pipeline(steps=[('ohe',\n",
       "                                                                                                OneHotEncoder(handle_unknown='ignore')),\n",
       "                                                                                               ('imputer',\n",
       "                                                                                                SimpleImputer(add_indicator=True,\n",
       "                                                                                                              strategy='most_frequent'))]),\n",
       "                                                                               ['mode',\n",
       "                                                                                'explicit',\n",
       "                                                                                'key',\n",
       "                                                                                'year']),\n",
       "                                                                              ('continuous',\n",
       "                                                                               Pipeline(steps=[('SS',\n",
       "                                                                                                StandardScaler()),\n",
       "                                                                                               ('KNN',\n",
       "                                                                                                KNNImp...\n",
       "                                                                  max_iter=1500)],\n",
       "                                         'regre__alpha': array([0.0001, 0.0002, 0.0003, 0.0004, 0.0005, 0.0006, 0.0007, 0.0008,\n",
       "       0.0009, 0.001 ]),\n",
       "                                         'regre__epsilon': array([1.4       , 1.42222222, 1.44444444, 1.46666667, 1.48888889,\n",
       "       1.51111111, 1.53333333, 1.55555556, 1.57777778, 1.6       ])}],\n",
       "                   random_state=42, refit='neg_root_mean_squared_error',\n",
       "                   scoring=['neg_root_mean_squared_error',\n",
       "                            'neg_mean_squared_error'],\n",
       "                   verbose=1)</pre></div></div></div><div class=\"sk-parallel\"><div class=\"sk-parallel-item\"><div class=\"sk-item\"><div class=\"sk-serial\"><div class=\"sk-item\"><div class=\"sk-serial\"><div class=\"sk-item sk-dashed-wrapped\"><div class=\"sk-label-container\"><div class=\"sk-label sk-toggleable\"><input class=\"sk-toggleable__control sk-hidden--visually\" id=\"65d9cbb1-f503-41f4-af49-3e6b1e6ff0d9\" type=\"checkbox\" ><label class=\"sk-toggleable__label\" for=\"65d9cbb1-f503-41f4-af49-3e6b1e6ff0d9\">preprocessor: ColumnTransformer</label><div class=\"sk-toggleable__content\"><pre>ColumnTransformer(transformers=[('categorical',\n",
       "                                 Pipeline(steps=[('ohe',\n",
       "                                                  OneHotEncoder(handle_unknown='ignore')),\n",
       "                                                 ('imputer',\n",
       "                                                  SimpleImputer(add_indicator=True,\n",
       "                                                                strategy='most_frequent'))]),\n",
       "                                 ['mode', 'explicit', 'key', 'year']),\n",
       "                                ('continuous',\n",
       "                                 Pipeline(steps=[('SS', StandardScaler()),\n",
       "                                                 ('KNN', KNNImputer())]),\n",
       "                                 ['acousticness', 'danceability', 'duration_ms',\n",
       "                                  'energy', 'instrumentalness', 'liveness',\n",
       "                                  'loudness', 'speechiness', 'tempo',\n",
       "                                  'valence'])])</pre></div></div></div><div class=\"sk-parallel\"><div class=\"sk-parallel-item\"><div class=\"sk-item\"><div class=\"sk-label-container\"><div class=\"sk-label sk-toggleable\"><input class=\"sk-toggleable__control sk-hidden--visually\" id=\"17b9830e-0e77-4d0f-994f-6faf4a92c52f\" type=\"checkbox\" ><label class=\"sk-toggleable__label\" for=\"17b9830e-0e77-4d0f-994f-6faf4a92c52f\">categorical</label><div class=\"sk-toggleable__content\"><pre>['mode', 'explicit', 'key', 'year']</pre></div></div></div><div class=\"sk-serial\"><div class=\"sk-item\"><div class=\"sk-serial\"><div class=\"sk-item\"><div class=\"sk-estimator sk-toggleable\"><input class=\"sk-toggleable__control sk-hidden--visually\" id=\"8e1d2a9b-ff4c-4ae7-bf1c-ce9eb376c4a6\" type=\"checkbox\" ><label class=\"sk-toggleable__label\" for=\"8e1d2a9b-ff4c-4ae7-bf1c-ce9eb376c4a6\">OneHotEncoder</label><div class=\"sk-toggleable__content\"><pre>OneHotEncoder(handle_unknown='ignore')</pre></div></div></div><div class=\"sk-item\"><div class=\"sk-estimator sk-toggleable\"><input class=\"sk-toggleable__control sk-hidden--visually\" id=\"9ae552e0-72a1-45cf-b485-99c6ceac343a\" type=\"checkbox\" ><label class=\"sk-toggleable__label\" for=\"9ae552e0-72a1-45cf-b485-99c6ceac343a\">SimpleImputer</label><div class=\"sk-toggleable__content\"><pre>SimpleImputer(add_indicator=True, strategy='most_frequent')</pre></div></div></div></div></div></div></div></div><div class=\"sk-parallel-item\"><div class=\"sk-item\"><div class=\"sk-label-container\"><div class=\"sk-label sk-toggleable\"><input class=\"sk-toggleable__control sk-hidden--visually\" id=\"6c23b778-9b78-4fbd-8144-673878aea7bb\" type=\"checkbox\" ><label class=\"sk-toggleable__label\" for=\"6c23b778-9b78-4fbd-8144-673878aea7bb\">continuous</label><div class=\"sk-toggleable__content\"><pre>['acousticness', 'danceability', 'duration_ms', 'energy', 'instrumentalness', 'liveness', 'loudness', 'speechiness', 'tempo', 'valence']</pre></div></div></div><div class=\"sk-serial\"><div class=\"sk-item\"><div class=\"sk-serial\"><div class=\"sk-item\"><div class=\"sk-estimator sk-toggleable\"><input class=\"sk-toggleable__control sk-hidden--visually\" id=\"e8589e8b-efd7-4392-baee-bfb750d18290\" type=\"checkbox\" ><label class=\"sk-toggleable__label\" for=\"e8589e8b-efd7-4392-baee-bfb750d18290\">StandardScaler</label><div class=\"sk-toggleable__content\"><pre>StandardScaler()</pre></div></div></div><div class=\"sk-item\"><div class=\"sk-estimator sk-toggleable\"><input class=\"sk-toggleable__control sk-hidden--visually\" id=\"72e43a8c-7b80-4e76-8db2-8709d7de2cb6\" type=\"checkbox\" ><label class=\"sk-toggleable__label\" for=\"72e43a8c-7b80-4e76-8db2-8709d7de2cb6\">KNNImputer</label><div class=\"sk-toggleable__content\"><pre>KNNImputer()</pre></div></div></div></div></div></div></div></div></div></div><div class=\"sk-item sk-dashed-wrapped\"><div class=\"sk-label-container\"><div class=\"sk-label sk-toggleable\"><input class=\"sk-toggleable__control sk-hidden--visually\" id=\"f92eb14a-c9de-4724-848c-06cef3abcab4\" type=\"checkbox\" ><label class=\"sk-toggleable__label\" for=\"f92eb14a-c9de-4724-848c-06cef3abcab4\">regre: TransformedTargetRegressor</label><div class=\"sk-toggleable__content\"><pre>TransformedTargetRegressor(regressor=DummyEstimator(),\n",
       "                           transformer=QuantileTransformer(n_quantiles=300,\n",
       "                                                           output_distribution='normal'))</pre></div></div></div><div class=\"sk-parallel\"><div class=\"sk-parallel-item\"><div class=\"sk-item\"><div class=\"sk-serial\"><div class=\"sk-item\"><div class=\"sk-estimator sk-toggleable\"><input class=\"sk-toggleable__control sk-hidden--visually\" id=\"b2cadd61-bfd3-483e-b50b-156a0a3e4d76\" type=\"checkbox\" ><label class=\"sk-toggleable__label\" for=\"b2cadd61-bfd3-483e-b50b-156a0a3e4d76\">DummyEstimator</label><div class=\"sk-toggleable__content\"><pre>DummyEstimator()</pre></div></div></div></div></div></div><div class=\"sk-parallel-item\"><div class=\"sk-item\"><div class=\"sk-serial\"><div class=\"sk-item\"><div class=\"sk-estimator sk-toggleable\"><input class=\"sk-toggleable__control sk-hidden--visually\" id=\"78ccb308-a6ac-4e78-9e90-2478531f2810\" type=\"checkbox\" ><label class=\"sk-toggleable__label\" for=\"78ccb308-a6ac-4e78-9e90-2478531f2810\">QuantileTransformer</label><div class=\"sk-toggleable__content\"><pre>QuantileTransformer(n_quantiles=300, output_distribution='normal')</pre></div></div></div></div></div></div></div></div></div></div></div></div></div></div></div></div></div>"
      ],
      "text/plain": [
       "RandomizedSearchCV(cv=5,\n",
       "                   estimator=Pipeline(steps=[('preprocessor',\n",
       "                                              ColumnTransformer(transformers=[('categorical',\n",
       "                                                                               Pipeline(steps=[('ohe',\n",
       "                                                                                                OneHotEncoder(handle_unknown='ignore')),\n",
       "                                                                                               ('imputer',\n",
       "                                                                                                SimpleImputer(add_indicator=True,\n",
       "                                                                                                              strategy='most_frequent'))]),\n",
       "                                                                               ['mode',\n",
       "                                                                                'explicit',\n",
       "                                                                                'key',\n",
       "                                                                                'year']),\n",
       "                                                                              ('continuous',\n",
       "                                                                               Pipeline(steps=[('SS',\n",
       "                                                                                                StandardScaler()),\n",
       "                                                                                               ('KNN',\n",
       "                                                                                                KNNImp...\n",
       "                                                                  max_iter=1500)],\n",
       "                                         'regre__alpha': array([0.0001, 0.0002, 0.0003, 0.0004, 0.0005, 0.0006, 0.0007, 0.0008,\n",
       "       0.0009, 0.001 ]),\n",
       "                                         'regre__epsilon': array([1.4       , 1.42222222, 1.44444444, 1.46666667, 1.48888889,\n",
       "       1.51111111, 1.53333333, 1.55555556, 1.57777778, 1.6       ])}],\n",
       "                   random_state=42, refit='neg_root_mean_squared_error',\n",
       "                   scoring=['neg_root_mean_squared_error',\n",
       "                            'neg_mean_squared_error'],\n",
       "                   verbose=1)"
      ]
     },
     "execution_count": 25,
     "metadata": {},
     "output_type": "execute_result"
    }
   ],
   "source": [
    "huber_randcv2.fit(X_train, y_train)"
   ]
  },
  {
   "cell_type": "code",
   "execution_count": 26,
   "metadata": {
    "ExecuteTime": {
     "end_time": "2021-03-10T21:59:11.964944Z",
     "start_time": "2021-03-10T21:59:11.960996Z"
    }
   },
   "outputs": [
    {
     "data": {
      "text/plain": [
       "{'regre__epsilon': 1.6,\n",
       " 'regre__alpha': 0.00039999999999999996,\n",
       " 'regre': HuberRegressor(alpha=0.00039999999999999996, epsilon=1.6, max_iter=1500)}"
      ]
     },
     "execution_count": 26,
     "metadata": {},
     "output_type": "execute_result"
    }
   ],
   "source": [
    "huber_randcv2.best_params_"
   ]
  },
  {
   "cell_type": "code",
   "execution_count": 27,
   "metadata": {
    "ExecuteTime": {
     "end_time": "2021-03-10T21:59:11.968863Z",
     "start_time": "2021-03-10T21:59:11.966447Z"
    }
   },
   "outputs": [
    {
     "data": {
      "text/plain": [
       "-25.319244438706132"
      ]
     },
     "execution_count": 27,
     "metadata": {},
     "output_type": "execute_result"
    }
   ],
   "source": [
    "huber_randcv2.best_score_"
   ]
  },
  {
   "cell_type": "markdown",
   "metadata": {},
   "source": [
    "### Ensemble Bagging"
   ]
  },
  {
   "cell_type": "markdown",
   "metadata": {},
   "source": [
    "Next, we are moving onto ensemble methods. Specifically Bagging and Random Forests. <br>\n",
    "\n",
    "For bagging regressors, only two hyperparameters are explored here: n_est and max_features. <br>\n",
    "\n",
    "n_est is specifying the number of trees in the model. This is done to reduce overfitting like decision trees. <br>\n",
    "max_features represents the number of features chosen per each tree. This is a way of bootstrapping to weaken the trees. By doing so, this allows better generalization and avoid overfitting."
   ]
  },
  {
   "cell_type": "code",
   "execution_count": 28,
   "metadata": {
    "ExecuteTime": {
     "end_time": "2021-03-10T21:59:11.975213Z",
     "start_time": "2021-03-10T21:59:11.970006Z"
    }
   },
   "outputs": [],
   "source": [
    "n_est = [100, 150] # num of trees (base_estimators)\n",
    "max_features = [0.8, 1.0] # features in base_estimators\n",
    "search_space = [{'bag': [BaggingRegressor(n_jobs=-1)], # Actual Estimator\n",
    "                 'bag__n_estimators': n_est,\n",
    "                 'bag__max_features': max_features}]\n",
    "\n",
    "bag_final_pipe = Pipeline([('preprocessor', preprocessor),\n",
    "                ('bag', TransformedTargetRegressor(regressor=DummyEstimator(),\n",
    "                                                         transformer=QuantileTransformer(n_quantiles=300,\n",
    "                                                         output_distribution='normal')))])                \n",
    "\n",
    "bag_randcv = RandomizedSearchCV(estimator=bag_final_pipe, \n",
    "                                 param_distributions=search_space,\n",
    "                                 cv=5,\n",
    "                                 scoring=['neg_root_mean_squared_error', 'neg_mean_squared_error'],\n",
    "                                 n_jobs=-1,\n",
    "                                 verbose=1,\n",
    "                                 random_state=42,\n",
    "                                 refit='neg_root_mean_squared_error')"
   ]
  },
  {
   "cell_type": "code",
   "execution_count": 29,
   "metadata": {
    "ExecuteTime": {
     "end_time": "2021-03-10T22:00:20.364130Z",
     "start_time": "2021-03-10T21:59:11.976507Z"
    },
    "scrolled": true
   },
   "outputs": [
    {
     "name": "stderr",
     "output_type": "stream",
     "text": [
      "/Users/pkpoon/opt/anaconda3/envs/ml/lib/python3.8/site-packages/sklearn/model_selection/_search.py:278: UserWarning: The total space of parameters 4 is smaller than n_iter=10. Running 4 iterations. For exhaustive searches, use GridSearchCV.\n",
      "  warnings.warn(\n",
      "[Parallel(n_jobs=-1)]: Using backend LokyBackend with 12 concurrent workers.\n"
     ]
    },
    {
     "name": "stdout",
     "output_type": "stream",
     "text": [
      "Fitting 5 folds for each of 4 candidates, totalling 20 fits\n"
     ]
    },
    {
     "name": "stderr",
     "output_type": "stream",
     "text": [
      "[Parallel(n_jobs=-1)]: Done  18 out of  20 | elapsed:  1.0min remaining:    6.8s\n",
      "[Parallel(n_jobs=-1)]: Done  20 out of  20 | elapsed:  1.0min finished\n"
     ]
    },
    {
     "data": {
      "text/html": [
       "<style>div.sk-top-container {color: black;background-color: white;}div.sk-toggleable {background-color: white;}label.sk-toggleable__label {cursor: pointer;display: block;width: 100%;margin-bottom: 0;padding: 0.2em 0.3em;box-sizing: border-box;text-align: center;}div.sk-toggleable__content {max-height: 0;max-width: 0;overflow: hidden;text-align: left;background-color: #f0f8ff;}div.sk-toggleable__content pre {margin: 0.2em;color: black;border-radius: 0.25em;background-color: #f0f8ff;}input.sk-toggleable__control:checked~div.sk-toggleable__content {max-height: 200px;max-width: 100%;overflow: auto;}div.sk-estimator input.sk-toggleable__control:checked~label.sk-toggleable__label {background-color: #d4ebff;}div.sk-label input.sk-toggleable__control:checked~label.sk-toggleable__label {background-color: #d4ebff;}input.sk-hidden--visually {border: 0;clip: rect(1px 1px 1px 1px);clip: rect(1px, 1px, 1px, 1px);height: 1px;margin: -1px;overflow: hidden;padding: 0;position: absolute;width: 1px;}div.sk-estimator {font-family: monospace;background-color: #f0f8ff;margin: 0.25em 0.25em;border: 1px dotted black;border-radius: 0.25em;box-sizing: border-box;}div.sk-estimator:hover {background-color: #d4ebff;}div.sk-parallel-item::after {content: \"\";width: 100%;border-bottom: 1px solid gray;flex-grow: 1;}div.sk-label:hover label.sk-toggleable__label {background-color: #d4ebff;}div.sk-serial::before {content: \"\";position: absolute;border-left: 1px solid gray;box-sizing: border-box;top: 2em;bottom: 0;left: 50%;}div.sk-serial {display: flex;flex-direction: column;align-items: center;background-color: white;}div.sk-item {z-index: 1;}div.sk-parallel {display: flex;align-items: stretch;justify-content: center;background-color: white;}div.sk-parallel-item {display: flex;flex-direction: column;position: relative;background-color: white;}div.sk-parallel-item:first-child::after {align-self: flex-end;width: 50%;}div.sk-parallel-item:last-child::after {align-self: flex-start;width: 50%;}div.sk-parallel-item:only-child::after {width: 0;}div.sk-dashed-wrapped {border: 1px dashed gray;margin: 0.2em;box-sizing: border-box;padding-bottom: 0.1em;background-color: white;position: relative;}div.sk-label label {font-family: monospace;font-weight: bold;background-color: white;display: inline-block;line-height: 1.2em;}div.sk-label-container {position: relative;z-index: 2;text-align: center;}div.sk-container {display: inline-block;position: relative;}</style><div class=\"sk-top-container\"><div class=\"sk-container\"><div class=\"sk-item sk-dashed-wrapped\"><div class=\"sk-label-container\"><div class=\"sk-label sk-toggleable\"><input class=\"sk-toggleable__control sk-hidden--visually\" id=\"23baef28-a885-479d-99a7-9c0101367248\" type=\"checkbox\" ><label class=\"sk-toggleable__label\" for=\"23baef28-a885-479d-99a7-9c0101367248\">RandomizedSearchCV</label><div class=\"sk-toggleable__content\"><pre>RandomizedSearchCV(cv=5,\n",
       "                   estimator=Pipeline(steps=[('preprocessor',\n",
       "                                              ColumnTransformer(transformers=[('categorical',\n",
       "                                                                               Pipeline(steps=[('ohe',\n",
       "                                                                                                OneHotEncoder(handle_unknown='ignore')),\n",
       "                                                                                               ('imputer',\n",
       "                                                                                                SimpleImputer(add_indicator=True,\n",
       "                                                                                                              strategy='most_frequent'))]),\n",
       "                                                                               ['mode',\n",
       "                                                                                'explicit',\n",
       "                                                                                'key',\n",
       "                                                                                'year']),\n",
       "                                                                              ('continuous',\n",
       "                                                                               Pipeline(steps=[('SS',\n",
       "                                                                                                StandardScaler()),\n",
       "                                                                                               ('KNN',\n",
       "                                                                                                KNNImp...\n",
       "                                                                         transformer=QuantileTransformer(n_quantiles=300,\n",
       "                                                                                                         output_distribution='normal')))]),\n",
       "                   n_jobs=-1,\n",
       "                   param_distributions=[{'bag': [BaggingRegressor(n_estimators=150,\n",
       "                                                                  n_jobs=-1)],\n",
       "                                         'bag__max_features': [0.8, 1.0],\n",
       "                                         'bag__n_estimators': [100, 150]}],\n",
       "                   random_state=42, refit='neg_root_mean_squared_error',\n",
       "                   scoring=['neg_root_mean_squared_error',\n",
       "                            'neg_mean_squared_error'],\n",
       "                   verbose=1)</pre></div></div></div><div class=\"sk-parallel\"><div class=\"sk-parallel-item\"><div class=\"sk-item\"><div class=\"sk-serial\"><div class=\"sk-item\"><div class=\"sk-serial\"><div class=\"sk-item sk-dashed-wrapped\"><div class=\"sk-label-container\"><div class=\"sk-label sk-toggleable\"><input class=\"sk-toggleable__control sk-hidden--visually\" id=\"64aae5cf-f490-4b6a-9a62-c6577c938419\" type=\"checkbox\" ><label class=\"sk-toggleable__label\" for=\"64aae5cf-f490-4b6a-9a62-c6577c938419\">preprocessor: ColumnTransformer</label><div class=\"sk-toggleable__content\"><pre>ColumnTransformer(transformers=[('categorical',\n",
       "                                 Pipeline(steps=[('ohe',\n",
       "                                                  OneHotEncoder(handle_unknown='ignore')),\n",
       "                                                 ('imputer',\n",
       "                                                  SimpleImputer(add_indicator=True,\n",
       "                                                                strategy='most_frequent'))]),\n",
       "                                 ['mode', 'explicit', 'key', 'year']),\n",
       "                                ('continuous',\n",
       "                                 Pipeline(steps=[('SS', StandardScaler()),\n",
       "                                                 ('KNN', KNNImputer())]),\n",
       "                                 ['acousticness', 'danceability', 'duration_ms',\n",
       "                                  'energy', 'instrumentalness', 'liveness',\n",
       "                                  'loudness', 'speechiness', 'tempo',\n",
       "                                  'valence'])])</pre></div></div></div><div class=\"sk-parallel\"><div class=\"sk-parallel-item\"><div class=\"sk-item\"><div class=\"sk-label-container\"><div class=\"sk-label sk-toggleable\"><input class=\"sk-toggleable__control sk-hidden--visually\" id=\"3d6b3d30-c24a-44db-bd26-b200a398a2db\" type=\"checkbox\" ><label class=\"sk-toggleable__label\" for=\"3d6b3d30-c24a-44db-bd26-b200a398a2db\">categorical</label><div class=\"sk-toggleable__content\"><pre>['mode', 'explicit', 'key', 'year']</pre></div></div></div><div class=\"sk-serial\"><div class=\"sk-item\"><div class=\"sk-serial\"><div class=\"sk-item\"><div class=\"sk-estimator sk-toggleable\"><input class=\"sk-toggleable__control sk-hidden--visually\" id=\"1a0b5abe-c5e8-46ae-b8d8-8de61d548770\" type=\"checkbox\" ><label class=\"sk-toggleable__label\" for=\"1a0b5abe-c5e8-46ae-b8d8-8de61d548770\">OneHotEncoder</label><div class=\"sk-toggleable__content\"><pre>OneHotEncoder(handle_unknown='ignore')</pre></div></div></div><div class=\"sk-item\"><div class=\"sk-estimator sk-toggleable\"><input class=\"sk-toggleable__control sk-hidden--visually\" id=\"bc00544e-fe87-413a-95a9-bcafc6ca812f\" type=\"checkbox\" ><label class=\"sk-toggleable__label\" for=\"bc00544e-fe87-413a-95a9-bcafc6ca812f\">SimpleImputer</label><div class=\"sk-toggleable__content\"><pre>SimpleImputer(add_indicator=True, strategy='most_frequent')</pre></div></div></div></div></div></div></div></div><div class=\"sk-parallel-item\"><div class=\"sk-item\"><div class=\"sk-label-container\"><div class=\"sk-label sk-toggleable\"><input class=\"sk-toggleable__control sk-hidden--visually\" id=\"fcacbad9-3439-4e3b-95d8-e9eec90afcc1\" type=\"checkbox\" ><label class=\"sk-toggleable__label\" for=\"fcacbad9-3439-4e3b-95d8-e9eec90afcc1\">continuous</label><div class=\"sk-toggleable__content\"><pre>['acousticness', 'danceability', 'duration_ms', 'energy', 'instrumentalness', 'liveness', 'loudness', 'speechiness', 'tempo', 'valence']</pre></div></div></div><div class=\"sk-serial\"><div class=\"sk-item\"><div class=\"sk-serial\"><div class=\"sk-item\"><div class=\"sk-estimator sk-toggleable\"><input class=\"sk-toggleable__control sk-hidden--visually\" id=\"95b90aef-f633-4291-ac9c-2c34ddfda0b1\" type=\"checkbox\" ><label class=\"sk-toggleable__label\" for=\"95b90aef-f633-4291-ac9c-2c34ddfda0b1\">StandardScaler</label><div class=\"sk-toggleable__content\"><pre>StandardScaler()</pre></div></div></div><div class=\"sk-item\"><div class=\"sk-estimator sk-toggleable\"><input class=\"sk-toggleable__control sk-hidden--visually\" id=\"178713f3-0015-494c-b22e-9afc56c88589\" type=\"checkbox\" ><label class=\"sk-toggleable__label\" for=\"178713f3-0015-494c-b22e-9afc56c88589\">KNNImputer</label><div class=\"sk-toggleable__content\"><pre>KNNImputer()</pre></div></div></div></div></div></div></div></div></div></div><div class=\"sk-item sk-dashed-wrapped\"><div class=\"sk-label-container\"><div class=\"sk-label sk-toggleable\"><input class=\"sk-toggleable__control sk-hidden--visually\" id=\"7f1c8319-0104-4735-b1b8-e73ce1e1e481\" type=\"checkbox\" ><label class=\"sk-toggleable__label\" for=\"7f1c8319-0104-4735-b1b8-e73ce1e1e481\">bag: TransformedTargetRegressor</label><div class=\"sk-toggleable__content\"><pre>TransformedTargetRegressor(regressor=DummyEstimator(),\n",
       "                           transformer=QuantileTransformer(n_quantiles=300,\n",
       "                                                           output_distribution='normal'))</pre></div></div></div><div class=\"sk-parallel\"><div class=\"sk-parallel-item\"><div class=\"sk-item\"><div class=\"sk-serial\"><div class=\"sk-item\"><div class=\"sk-estimator sk-toggleable\"><input class=\"sk-toggleable__control sk-hidden--visually\" id=\"203e55fc-aa05-47ad-91cd-b2d662868407\" type=\"checkbox\" ><label class=\"sk-toggleable__label\" for=\"203e55fc-aa05-47ad-91cd-b2d662868407\">DummyEstimator</label><div class=\"sk-toggleable__content\"><pre>DummyEstimator()</pre></div></div></div></div></div></div><div class=\"sk-parallel-item\"><div class=\"sk-item\"><div class=\"sk-serial\"><div class=\"sk-item\"><div class=\"sk-estimator sk-toggleable\"><input class=\"sk-toggleable__control sk-hidden--visually\" id=\"6428424d-4f1b-4a74-ad62-75072136b65c\" type=\"checkbox\" ><label class=\"sk-toggleable__label\" for=\"6428424d-4f1b-4a74-ad62-75072136b65c\">QuantileTransformer</label><div class=\"sk-toggleable__content\"><pre>QuantileTransformer(n_quantiles=300, output_distribution='normal')</pre></div></div></div></div></div></div></div></div></div></div></div></div></div></div></div></div></div>"
      ],
      "text/plain": [
       "RandomizedSearchCV(cv=5,\n",
       "                   estimator=Pipeline(steps=[('preprocessor',\n",
       "                                              ColumnTransformer(transformers=[('categorical',\n",
       "                                                                               Pipeline(steps=[('ohe',\n",
       "                                                                                                OneHotEncoder(handle_unknown='ignore')),\n",
       "                                                                                               ('imputer',\n",
       "                                                                                                SimpleImputer(add_indicator=True,\n",
       "                                                                                                              strategy='most_frequent'))]),\n",
       "                                                                               ['mode',\n",
       "                                                                                'explicit',\n",
       "                                                                                'key',\n",
       "                                                                                'year']),\n",
       "                                                                              ('continuous',\n",
       "                                                                               Pipeline(steps=[('SS',\n",
       "                                                                                                StandardScaler()),\n",
       "                                                                                               ('KNN',\n",
       "                                                                                                KNNImp...\n",
       "                                                                         transformer=QuantileTransformer(n_quantiles=300,\n",
       "                                                                                                         output_distribution='normal')))]),\n",
       "                   n_jobs=-1,\n",
       "                   param_distributions=[{'bag': [BaggingRegressor(n_estimators=150,\n",
       "                                                                  n_jobs=-1)],\n",
       "                                         'bag__max_features': [0.8, 1.0],\n",
       "                                         'bag__n_estimators': [100, 150]}],\n",
       "                   random_state=42, refit='neg_root_mean_squared_error',\n",
       "                   scoring=['neg_root_mean_squared_error',\n",
       "                            'neg_mean_squared_error'],\n",
       "                   verbose=1)"
      ]
     },
     "execution_count": 29,
     "metadata": {},
     "output_type": "execute_result"
    }
   ],
   "source": [
    "bag_randcv.fit(X_train, y_train)"
   ]
  },
  {
   "cell_type": "code",
   "execution_count": 30,
   "metadata": {
    "ExecuteTime": {
     "end_time": "2021-03-10T22:00:20.368764Z",
     "start_time": "2021-03-10T22:00:20.365831Z"
    }
   },
   "outputs": [
    {
     "data": {
      "text/plain": [
       "-20.405664835077722"
      ]
     },
     "execution_count": 30,
     "metadata": {},
     "output_type": "execute_result"
    }
   ],
   "source": [
    "bag_randcv.best_score_"
   ]
  },
  {
   "cell_type": "markdown",
   "metadata": {},
   "source": [
    "### Ensemble - Random Forest"
   ]
  },
  {
   "cell_type": "markdown",
   "metadata": {
    "ExecuteTime": {
     "end_time": "2021-03-10T17:03:54.482382Z",
     "start_time": "2021-03-10T17:03:54.474377Z"
    }
   },
   "source": [
    "For Random Forests, a total of 4 hyperparameters are searched through: \n",
    "- n_est\n",
    "- min_samples_split\n",
    "- min_samples_leaf\n",
    "- max_depth<br>\n",
    "\n",
    "n_est is specifying the number of trees in the model. Similar as Bagging, this is done to reduce overfitting like decision trees. <br>\n",
    "min_samples_split represents the minimal sample to split a node. Smaller value introduces less variance in prediction for this node. <br>\n",
    "min_samples_leaf represents how many samples needed per each leaf. The leaf node won't be splitted if either left or right leaf child has less samples if splitted. \n",
    "max_depth controls how deep a tree can go. \n",
    "<br>"
   ]
  },
  {
   "cell_type": "code",
   "execution_count": 31,
   "metadata": {
    "ExecuteTime": {
     "end_time": "2021-03-10T22:00:20.375785Z",
     "start_time": "2021-03-10T22:00:20.370837Z"
    }
   },
   "outputs": [],
   "source": [
    "n_est = [100, 150]\n",
    "min_samples_split = [2, 5]\n",
    "min_samples_leaf = [2]\n",
    "max_depth = [100, 150, 250]\n",
    "search_space = [{'rf': [RandomForestRegressor(n_jobs=-1)], # Actual Estimator\n",
    "                 'rf__n_estimators': n_est,\n",
    "                 'rf__min_samples_split': min_samples_split,\n",
    "                 'rf__min_samples_leaf': min_samples_leaf,\n",
    "                 'rf__max_depth': max_depth}]\n",
    "\n",
    "rf_final_pipe = Pipeline([('preprocessor', preprocessor),\n",
    "                ('rf', TransformedTargetRegressor(regressor=DummyEstimator(),\n",
    "                                                         transformer=QuantileTransformer(n_quantiles=300,\n",
    "                                                         output_distribution='normal')))])                \n",
    "\n",
    "rf_randcv = RandomizedSearchCV(estimator=rf_final_pipe, \n",
    "                                 param_distributions=search_space, \n",
    "                                 n_iter=12,\n",
    "                                 cv=5,\n",
    "                                 scoring=['neg_root_mean_squared_error', 'neg_mean_squared_error'],\n",
    "                                 n_jobs=-1,\n",
    "                                 verbose=1,\n",
    "                                 random_state=42,\n",
    "                                 refit='neg_root_mean_squared_error')"
   ]
  },
  {
   "cell_type": "code",
   "execution_count": 32,
   "metadata": {
    "ExecuteTime": {
     "end_time": "2021-03-10T22:03:56.841335Z",
     "start_time": "2021-03-10T22:00:20.377175Z"
    },
    "scrolled": false
   },
   "outputs": [
    {
     "name": "stdout",
     "output_type": "stream",
     "text": [
      "Fitting 5 folds for each of 12 candidates, totalling 60 fits\n"
     ]
    },
    {
     "name": "stderr",
     "output_type": "stream",
     "text": [
      "[Parallel(n_jobs=-1)]: Using backend LokyBackend with 12 concurrent workers.\n",
      "[Parallel(n_jobs=-1)]: Done  26 tasks      | elapsed:  1.8min\n",
      "[Parallel(n_jobs=-1)]: Done  60 out of  60 | elapsed:  3.4min finished\n"
     ]
    },
    {
     "data": {
      "text/html": [
       "<style>div.sk-top-container {color: black;background-color: white;}div.sk-toggleable {background-color: white;}label.sk-toggleable__label {cursor: pointer;display: block;width: 100%;margin-bottom: 0;padding: 0.2em 0.3em;box-sizing: border-box;text-align: center;}div.sk-toggleable__content {max-height: 0;max-width: 0;overflow: hidden;text-align: left;background-color: #f0f8ff;}div.sk-toggleable__content pre {margin: 0.2em;color: black;border-radius: 0.25em;background-color: #f0f8ff;}input.sk-toggleable__control:checked~div.sk-toggleable__content {max-height: 200px;max-width: 100%;overflow: auto;}div.sk-estimator input.sk-toggleable__control:checked~label.sk-toggleable__label {background-color: #d4ebff;}div.sk-label input.sk-toggleable__control:checked~label.sk-toggleable__label {background-color: #d4ebff;}input.sk-hidden--visually {border: 0;clip: rect(1px 1px 1px 1px);clip: rect(1px, 1px, 1px, 1px);height: 1px;margin: -1px;overflow: hidden;padding: 0;position: absolute;width: 1px;}div.sk-estimator {font-family: monospace;background-color: #f0f8ff;margin: 0.25em 0.25em;border: 1px dotted black;border-radius: 0.25em;box-sizing: border-box;}div.sk-estimator:hover {background-color: #d4ebff;}div.sk-parallel-item::after {content: \"\";width: 100%;border-bottom: 1px solid gray;flex-grow: 1;}div.sk-label:hover label.sk-toggleable__label {background-color: #d4ebff;}div.sk-serial::before {content: \"\";position: absolute;border-left: 1px solid gray;box-sizing: border-box;top: 2em;bottom: 0;left: 50%;}div.sk-serial {display: flex;flex-direction: column;align-items: center;background-color: white;}div.sk-item {z-index: 1;}div.sk-parallel {display: flex;align-items: stretch;justify-content: center;background-color: white;}div.sk-parallel-item {display: flex;flex-direction: column;position: relative;background-color: white;}div.sk-parallel-item:first-child::after {align-self: flex-end;width: 50%;}div.sk-parallel-item:last-child::after {align-self: flex-start;width: 50%;}div.sk-parallel-item:only-child::after {width: 0;}div.sk-dashed-wrapped {border: 1px dashed gray;margin: 0.2em;box-sizing: border-box;padding-bottom: 0.1em;background-color: white;position: relative;}div.sk-label label {font-family: monospace;font-weight: bold;background-color: white;display: inline-block;line-height: 1.2em;}div.sk-label-container {position: relative;z-index: 2;text-align: center;}div.sk-container {display: inline-block;position: relative;}</style><div class=\"sk-top-container\"><div class=\"sk-container\"><div class=\"sk-item sk-dashed-wrapped\"><div class=\"sk-label-container\"><div class=\"sk-label sk-toggleable\"><input class=\"sk-toggleable__control sk-hidden--visually\" id=\"18218eff-da03-4d5a-b2ee-7224766d4311\" type=\"checkbox\" ><label class=\"sk-toggleable__label\" for=\"18218eff-da03-4d5a-b2ee-7224766d4311\">RandomizedSearchCV</label><div class=\"sk-toggleable__content\"><pre>RandomizedSearchCV(cv=5,\n",
       "                   estimator=Pipeline(steps=[('preprocessor',\n",
       "                                              ColumnTransformer(transformers=[('categorical',\n",
       "                                                                               Pipeline(steps=[('ohe',\n",
       "                                                                                                OneHotEncoder(handle_unknown='ignore')),\n",
       "                                                                                               ('imputer',\n",
       "                                                                                                SimpleImputer(add_indicator=True,\n",
       "                                                                                                              strategy='most_frequent'))]),\n",
       "                                                                               ['mode',\n",
       "                                                                                'explicit',\n",
       "                                                                                'key',\n",
       "                                                                                'year']),\n",
       "                                                                              ('continuous',\n",
       "                                                                               Pipeline(steps=[('SS',\n",
       "                                                                                                StandardScaler()),\n",
       "                                                                                               ('KNN',\n",
       "                                                                                                KNNImp...\n",
       "                   param_distributions=[{'rf': [RandomForestRegressor(max_depth=100,\n",
       "                                                                      min_samples_leaf=2,\n",
       "                                                                      n_estimators=150,\n",
       "                                                                      n_jobs=-1)],\n",
       "                                         'rf__max_depth': [100, 150, 250],\n",
       "                                         'rf__min_samples_leaf': [2],\n",
       "                                         'rf__min_samples_split': [2, 5],\n",
       "                                         'rf__n_estimators': [100, 150]}],\n",
       "                   random_state=42, refit='neg_root_mean_squared_error',\n",
       "                   scoring=['neg_root_mean_squared_error',\n",
       "                            'neg_mean_squared_error'],\n",
       "                   verbose=1)</pre></div></div></div><div class=\"sk-parallel\"><div class=\"sk-parallel-item\"><div class=\"sk-item\"><div class=\"sk-serial\"><div class=\"sk-item\"><div class=\"sk-serial\"><div class=\"sk-item sk-dashed-wrapped\"><div class=\"sk-label-container\"><div class=\"sk-label sk-toggleable\"><input class=\"sk-toggleable__control sk-hidden--visually\" id=\"6984e939-7584-4ff5-932c-3651bb96601b\" type=\"checkbox\" ><label class=\"sk-toggleable__label\" for=\"6984e939-7584-4ff5-932c-3651bb96601b\">preprocessor: ColumnTransformer</label><div class=\"sk-toggleable__content\"><pre>ColumnTransformer(transformers=[('categorical',\n",
       "                                 Pipeline(steps=[('ohe',\n",
       "                                                  OneHotEncoder(handle_unknown='ignore')),\n",
       "                                                 ('imputer',\n",
       "                                                  SimpleImputer(add_indicator=True,\n",
       "                                                                strategy='most_frequent'))]),\n",
       "                                 ['mode', 'explicit', 'key', 'year']),\n",
       "                                ('continuous',\n",
       "                                 Pipeline(steps=[('SS', StandardScaler()),\n",
       "                                                 ('KNN', KNNImputer())]),\n",
       "                                 ['acousticness', 'danceability', 'duration_ms',\n",
       "                                  'energy', 'instrumentalness', 'liveness',\n",
       "                                  'loudness', 'speechiness', 'tempo',\n",
       "                                  'valence'])])</pre></div></div></div><div class=\"sk-parallel\"><div class=\"sk-parallel-item\"><div class=\"sk-item\"><div class=\"sk-label-container\"><div class=\"sk-label sk-toggleable\"><input class=\"sk-toggleable__control sk-hidden--visually\" id=\"6504e9b3-819c-4aa6-bc70-a9b1b5fcf516\" type=\"checkbox\" ><label class=\"sk-toggleable__label\" for=\"6504e9b3-819c-4aa6-bc70-a9b1b5fcf516\">categorical</label><div class=\"sk-toggleable__content\"><pre>['mode', 'explicit', 'key', 'year']</pre></div></div></div><div class=\"sk-serial\"><div class=\"sk-item\"><div class=\"sk-serial\"><div class=\"sk-item\"><div class=\"sk-estimator sk-toggleable\"><input class=\"sk-toggleable__control sk-hidden--visually\" id=\"fc2f3da3-1efd-44cc-b40c-9943267783ea\" type=\"checkbox\" ><label class=\"sk-toggleable__label\" for=\"fc2f3da3-1efd-44cc-b40c-9943267783ea\">OneHotEncoder</label><div class=\"sk-toggleable__content\"><pre>OneHotEncoder(handle_unknown='ignore')</pre></div></div></div><div class=\"sk-item\"><div class=\"sk-estimator sk-toggleable\"><input class=\"sk-toggleable__control sk-hidden--visually\" id=\"465db492-169e-4989-9ca9-23888f87e916\" type=\"checkbox\" ><label class=\"sk-toggleable__label\" for=\"465db492-169e-4989-9ca9-23888f87e916\">SimpleImputer</label><div class=\"sk-toggleable__content\"><pre>SimpleImputer(add_indicator=True, strategy='most_frequent')</pre></div></div></div></div></div></div></div></div><div class=\"sk-parallel-item\"><div class=\"sk-item\"><div class=\"sk-label-container\"><div class=\"sk-label sk-toggleable\"><input class=\"sk-toggleable__control sk-hidden--visually\" id=\"7c41555e-9cba-4c7e-96d1-5733006acf7b\" type=\"checkbox\" ><label class=\"sk-toggleable__label\" for=\"7c41555e-9cba-4c7e-96d1-5733006acf7b\">continuous</label><div class=\"sk-toggleable__content\"><pre>['acousticness', 'danceability', 'duration_ms', 'energy', 'instrumentalness', 'liveness', 'loudness', 'speechiness', 'tempo', 'valence']</pre></div></div></div><div class=\"sk-serial\"><div class=\"sk-item\"><div class=\"sk-serial\"><div class=\"sk-item\"><div class=\"sk-estimator sk-toggleable\"><input class=\"sk-toggleable__control sk-hidden--visually\" id=\"b3af818a-d9cf-4383-9aae-cdd7a90c8b71\" type=\"checkbox\" ><label class=\"sk-toggleable__label\" for=\"b3af818a-d9cf-4383-9aae-cdd7a90c8b71\">StandardScaler</label><div class=\"sk-toggleable__content\"><pre>StandardScaler()</pre></div></div></div><div class=\"sk-item\"><div class=\"sk-estimator sk-toggleable\"><input class=\"sk-toggleable__control sk-hidden--visually\" id=\"8f715a16-2c83-4977-98ad-7c362a15f7ee\" type=\"checkbox\" ><label class=\"sk-toggleable__label\" for=\"8f715a16-2c83-4977-98ad-7c362a15f7ee\">KNNImputer</label><div class=\"sk-toggleable__content\"><pre>KNNImputer()</pre></div></div></div></div></div></div></div></div></div></div><div class=\"sk-item sk-dashed-wrapped\"><div class=\"sk-label-container\"><div class=\"sk-label sk-toggleable\"><input class=\"sk-toggleable__control sk-hidden--visually\" id=\"0d16b628-cd66-45c1-bf44-c870a6a9448f\" type=\"checkbox\" ><label class=\"sk-toggleable__label\" for=\"0d16b628-cd66-45c1-bf44-c870a6a9448f\">rf: TransformedTargetRegressor</label><div class=\"sk-toggleable__content\"><pre>TransformedTargetRegressor(regressor=DummyEstimator(),\n",
       "                           transformer=QuantileTransformer(n_quantiles=300,\n",
       "                                                           output_distribution='normal'))</pre></div></div></div><div class=\"sk-parallel\"><div class=\"sk-parallel-item\"><div class=\"sk-item\"><div class=\"sk-serial\"><div class=\"sk-item\"><div class=\"sk-estimator sk-toggleable\"><input class=\"sk-toggleable__control sk-hidden--visually\" id=\"cd9c7a1d-fafb-4e72-b0fc-f7352fe011b1\" type=\"checkbox\" ><label class=\"sk-toggleable__label\" for=\"cd9c7a1d-fafb-4e72-b0fc-f7352fe011b1\">DummyEstimator</label><div class=\"sk-toggleable__content\"><pre>DummyEstimator()</pre></div></div></div></div></div></div><div class=\"sk-parallel-item\"><div class=\"sk-item\"><div class=\"sk-serial\"><div class=\"sk-item\"><div class=\"sk-estimator sk-toggleable\"><input class=\"sk-toggleable__control sk-hidden--visually\" id=\"8a69a3e4-a0cf-43fe-9107-8f346faf21ef\" type=\"checkbox\" ><label class=\"sk-toggleable__label\" for=\"8a69a3e4-a0cf-43fe-9107-8f346faf21ef\">QuantileTransformer</label><div class=\"sk-toggleable__content\"><pre>QuantileTransformer(n_quantiles=300, output_distribution='normal')</pre></div></div></div></div></div></div></div></div></div></div></div></div></div></div></div></div></div>"
      ],
      "text/plain": [
       "RandomizedSearchCV(cv=5,\n",
       "                   estimator=Pipeline(steps=[('preprocessor',\n",
       "                                              ColumnTransformer(transformers=[('categorical',\n",
       "                                                                               Pipeline(steps=[('ohe',\n",
       "                                                                                                OneHotEncoder(handle_unknown='ignore')),\n",
       "                                                                                               ('imputer',\n",
       "                                                                                                SimpleImputer(add_indicator=True,\n",
       "                                                                                                              strategy='most_frequent'))]),\n",
       "                                                                               ['mode',\n",
       "                                                                                'explicit',\n",
       "                                                                                'key',\n",
       "                                                                                'year']),\n",
       "                                                                              ('continuous',\n",
       "                                                                               Pipeline(steps=[('SS',\n",
       "                                                                                                StandardScaler()),\n",
       "                                                                                               ('KNN',\n",
       "                                                                                                KNNImp...\n",
       "                   param_distributions=[{'rf': [RandomForestRegressor(max_depth=100,\n",
       "                                                                      min_samples_leaf=2,\n",
       "                                                                      n_estimators=150,\n",
       "                                                                      n_jobs=-1)],\n",
       "                                         'rf__max_depth': [100, 150, 250],\n",
       "                                         'rf__min_samples_leaf': [2],\n",
       "                                         'rf__min_samples_split': [2, 5],\n",
       "                                         'rf__n_estimators': [100, 150]}],\n",
       "                   random_state=42, refit='neg_root_mean_squared_error',\n",
       "                   scoring=['neg_root_mean_squared_error',\n",
       "                            'neg_mean_squared_error'],\n",
       "                   verbose=1)"
      ]
     },
     "execution_count": 32,
     "metadata": {},
     "output_type": "execute_result"
    }
   ],
   "source": [
    "rf_randcv.fit(X_train, y_train)"
   ]
  },
  {
   "cell_type": "code",
   "execution_count": 33,
   "metadata": {
    "ExecuteTime": {
     "end_time": "2021-03-10T22:03:56.845730Z",
     "start_time": "2021-03-10T22:03:56.843310Z"
    }
   },
   "outputs": [],
   "source": [
    "# rf_randcv.cv_results_"
   ]
  },
  {
   "cell_type": "code",
   "execution_count": 34,
   "metadata": {
    "ExecuteTime": {
     "end_time": "2021-03-10T22:03:56.851368Z",
     "start_time": "2021-03-10T22:03:56.847940Z"
    }
   },
   "outputs": [
    {
     "data": {
      "text/plain": [
       "-20.440163347563175"
      ]
     },
     "execution_count": 34,
     "metadata": {},
     "output_type": "execute_result"
    }
   ],
   "source": [
    "rf_randcv.best_score_"
   ]
  },
  {
   "cell_type": "code",
   "execution_count": 35,
   "metadata": {
    "ExecuteTime": {
     "end_time": "2021-03-10T22:03:56.857172Z",
     "start_time": "2021-03-10T22:03:56.853189Z"
    }
   },
   "outputs": [
    {
     "data": {
      "text/plain": [
       "{'rf__n_estimators': 150,\n",
       " 'rf__min_samples_split': 2,\n",
       " 'rf__min_samples_leaf': 2,\n",
       " 'rf__max_depth': 100,\n",
       " 'rf': RandomForestRegressor(max_depth=100, min_samples_leaf=2, n_estimators=150,\n",
       "                       n_jobs=-1)}"
      ]
     },
     "execution_count": 35,
     "metadata": {},
     "output_type": "execute_result"
    }
   ],
   "source": [
    "rf_randcv.best_params_"
   ]
  },
  {
   "cell_type": "markdown",
   "metadata": {},
   "source": [
    "### Question: What if we are not putting any hyperparameters and just run RandomForest using default parameters?"
   ]
  },
  {
   "cell_type": "code",
   "execution_count": 36,
   "metadata": {
    "ExecuteTime": {
     "end_time": "2021-03-10T22:03:56.862331Z",
     "start_time": "2021-03-10T22:03:56.858963Z"
    }
   },
   "outputs": [],
   "source": [
    "orig_rf_pipe = Pipeline([('preprocessor', preprocessor),\n",
    "                ('rf', TransformedTargetRegressor(regressor=RandomForestRegressor(n_jobs=-1),\n",
    "                                                         transformer=QuantileTransformer(n_quantiles=300,\n",
    "                                                         output_distribution='normal')))])   "
   ]
  },
  {
   "cell_type": "code",
   "execution_count": 37,
   "metadata": {
    "ExecuteTime": {
     "end_time": "2021-03-10T22:04:14.841016Z",
     "start_time": "2021-03-10T22:03:56.864263Z"
    }
   },
   "outputs": [],
   "source": [
    "## Using the same cross validation scoring and cv = 5\n",
    "scores = cross_val_score(orig_rf_pipe, X_train, y_train, cv=5, scoring='neg_root_mean_squared_error')"
   ]
  },
  {
   "cell_type": "code",
   "execution_count": 38,
   "metadata": {
    "ExecuteTime": {
     "end_time": "2021-03-10T22:04:14.847243Z",
     "start_time": "2021-03-10T22:04:14.843057Z"
    }
   },
   "outputs": [
    {
     "data": {
      "text/plain": [
       "-30.051352455408306"
      ]
     },
     "execution_count": 38,
     "metadata": {},
     "output_type": "execute_result"
    }
   ],
   "source": [
    "np.mean(scores) # So this is worst than with hyperparameters "
   ]
  },
  {
   "cell_type": "markdown",
   "metadata": {},
   "source": [
    "Final Model Evaluation on test set\n",
    "---"
   ]
  },
  {
   "cell_type": "markdown",
   "metadata": {},
   "source": [
    "Here are the final results from all the CV runs"
   ]
  },
  {
   "cell_type": "code",
   "execution_count": 39,
   "metadata": {
    "ExecuteTime": {
     "end_time": "2021-03-10T22:04:14.854842Z",
     "start_time": "2021-03-10T22:04:14.850257Z"
    }
   },
   "outputs": [
    {
     "name": "stdout",
     "output_type": "stream",
     "text": [
      "Ridge Regressor: -25.26\n",
      "Huber Regressor -1: -25.344\n",
      "Huber Regressor -2: -25.319\n",
      "Bagging Regressor: -20.406\n",
      "Random Forest Regressor: -20.44\n"
     ]
    }
   ],
   "source": [
    "print(f'Ridge Regressor: {round(ridge_randcv.best_score_, 3)}')\n",
    "print(f'Huber Regressor -1: {round(huber_randcv.best_score_, 3)}')\n",
    "print(f'Huber Regressor -2: {round(huber_randcv2.best_score_, 3)}')\n",
    "print(f'Bagging Regressor: {round(bag_randcv.best_score_, 3)}')\n",
    "print(f'Random Forest Regressor: {round(rf_randcv.best_score_, 3)}')"
   ]
  },
  {
   "cell_type": "markdown",
   "metadata": {},
   "source": [
    "We are picking Bagging Ensemble as our final candidate to test the test results. We are using Mean Absolute Error (MAE) here because we would like to correlate that to the song popularity abosulte eorror"
   ]
  },
  {
   "cell_type": "code",
   "execution_count": 40,
   "metadata": {
    "ExecuteTime": {
     "end_time": "2021-03-10T22:04:14.862826Z",
     "start_time": "2021-03-10T22:04:14.857905Z"
    }
   },
   "outputs": [
    {
     "data": {
      "text/plain": [
       "{'bag__n_estimators': 150,\n",
       " 'bag__max_features': 1.0,\n",
       " 'bag': BaggingRegressor(n_estimators=150, n_jobs=-1)}"
      ]
     },
     "execution_count": 40,
     "metadata": {},
     "output_type": "execute_result"
    }
   ],
   "source": [
    "bag_randcv.best_params_"
   ]
  },
  {
   "cell_type": "code",
   "execution_count": 41,
   "metadata": {
    "ExecuteTime": {
     "end_time": "2021-03-10T22:04:22.556115Z",
     "start_time": "2021-03-10T22:04:14.865400Z"
    },
    "scrolled": true
   },
   "outputs": [
    {
     "data": {
      "text/html": [
       "<style>div.sk-top-container {color: black;background-color: white;}div.sk-toggleable {background-color: white;}label.sk-toggleable__label {cursor: pointer;display: block;width: 100%;margin-bottom: 0;padding: 0.2em 0.3em;box-sizing: border-box;text-align: center;}div.sk-toggleable__content {max-height: 0;max-width: 0;overflow: hidden;text-align: left;background-color: #f0f8ff;}div.sk-toggleable__content pre {margin: 0.2em;color: black;border-radius: 0.25em;background-color: #f0f8ff;}input.sk-toggleable__control:checked~div.sk-toggleable__content {max-height: 200px;max-width: 100%;overflow: auto;}div.sk-estimator input.sk-toggleable__control:checked~label.sk-toggleable__label {background-color: #d4ebff;}div.sk-label input.sk-toggleable__control:checked~label.sk-toggleable__label {background-color: #d4ebff;}input.sk-hidden--visually {border: 0;clip: rect(1px 1px 1px 1px);clip: rect(1px, 1px, 1px, 1px);height: 1px;margin: -1px;overflow: hidden;padding: 0;position: absolute;width: 1px;}div.sk-estimator {font-family: monospace;background-color: #f0f8ff;margin: 0.25em 0.25em;border: 1px dotted black;border-radius: 0.25em;box-sizing: border-box;}div.sk-estimator:hover {background-color: #d4ebff;}div.sk-parallel-item::after {content: \"\";width: 100%;border-bottom: 1px solid gray;flex-grow: 1;}div.sk-label:hover label.sk-toggleable__label {background-color: #d4ebff;}div.sk-serial::before {content: \"\";position: absolute;border-left: 1px solid gray;box-sizing: border-box;top: 2em;bottom: 0;left: 50%;}div.sk-serial {display: flex;flex-direction: column;align-items: center;background-color: white;}div.sk-item {z-index: 1;}div.sk-parallel {display: flex;align-items: stretch;justify-content: center;background-color: white;}div.sk-parallel-item {display: flex;flex-direction: column;position: relative;background-color: white;}div.sk-parallel-item:first-child::after {align-self: flex-end;width: 50%;}div.sk-parallel-item:last-child::after {align-self: flex-start;width: 50%;}div.sk-parallel-item:only-child::after {width: 0;}div.sk-dashed-wrapped {border: 1px dashed gray;margin: 0.2em;box-sizing: border-box;padding-bottom: 0.1em;background-color: white;position: relative;}div.sk-label label {font-family: monospace;font-weight: bold;background-color: white;display: inline-block;line-height: 1.2em;}div.sk-label-container {position: relative;z-index: 2;text-align: center;}div.sk-container {display: inline-block;position: relative;}</style><div class=\"sk-top-container\"><div class=\"sk-container\"><div class=\"sk-item sk-dashed-wrapped\"><div class=\"sk-label-container\"><div class=\"sk-label sk-toggleable\"><input class=\"sk-toggleable__control sk-hidden--visually\" id=\"a130d40c-eefe-4334-b64a-54ff69a24042\" type=\"checkbox\" ><label class=\"sk-toggleable__label\" for=\"a130d40c-eefe-4334-b64a-54ff69a24042\">Pipeline</label><div class=\"sk-toggleable__content\"><pre>Pipeline(steps=[('preprocessor',\n",
       "                 ColumnTransformer(transformers=[('categorical',\n",
       "                                                  Pipeline(steps=[('ohe',\n",
       "                                                                   OneHotEncoder(handle_unknown='ignore')),\n",
       "                                                                  ('imputer',\n",
       "                                                                   SimpleImputer(add_indicator=True,\n",
       "                                                                                 strategy='most_frequent'))]),\n",
       "                                                  ['mode', 'explicit', 'key',\n",
       "                                                   'year']),\n",
       "                                                 ('continuous',\n",
       "                                                  Pipeline(steps=[('SS',\n",
       "                                                                   StandardScaler()),\n",
       "                                                                  ('KNN',\n",
       "                                                                   KNNImputer())]),\n",
       "                                                  ['acousticness',\n",
       "                                                   'danceability',\n",
       "                                                   'duration_ms', 'energy',\n",
       "                                                   'instrumentalness',\n",
       "                                                   'liveness', 'loudness',\n",
       "                                                   'speechiness', 'tempo',\n",
       "                                                   'valence'])])),\n",
       "                ('bag',\n",
       "                 TransformedTargetRegressor(regressor=BaggingRegressor(n_estimators=150,\n",
       "                                                                       n_jobs=-1),\n",
       "                                            transformer=QuantileTransformer(n_quantiles=300,\n",
       "                                                                            output_distribution='normal')))])</pre></div></div></div><div class=\"sk-serial\"><div class=\"sk-item sk-dashed-wrapped\"><div class=\"sk-label-container\"><div class=\"sk-label sk-toggleable\"><input class=\"sk-toggleable__control sk-hidden--visually\" id=\"1c285754-ca31-439e-90da-8c36908b32d2\" type=\"checkbox\" ><label class=\"sk-toggleable__label\" for=\"1c285754-ca31-439e-90da-8c36908b32d2\">preprocessor: ColumnTransformer</label><div class=\"sk-toggleable__content\"><pre>ColumnTransformer(transformers=[('categorical',\n",
       "                                 Pipeline(steps=[('ohe',\n",
       "                                                  OneHotEncoder(handle_unknown='ignore')),\n",
       "                                                 ('imputer',\n",
       "                                                  SimpleImputer(add_indicator=True,\n",
       "                                                                strategy='most_frequent'))]),\n",
       "                                 ['mode', 'explicit', 'key', 'year']),\n",
       "                                ('continuous',\n",
       "                                 Pipeline(steps=[('SS', StandardScaler()),\n",
       "                                                 ('KNN', KNNImputer())]),\n",
       "                                 ['acousticness', 'danceability', 'duration_ms',\n",
       "                                  'energy', 'instrumentalness', 'liveness',\n",
       "                                  'loudness', 'speechiness', 'tempo',\n",
       "                                  'valence'])])</pre></div></div></div><div class=\"sk-parallel\"><div class=\"sk-parallel-item\"><div class=\"sk-item\"><div class=\"sk-label-container\"><div class=\"sk-label sk-toggleable\"><input class=\"sk-toggleable__control sk-hidden--visually\" id=\"c70eae9a-a2f4-48de-b310-99bbbd1f86a1\" type=\"checkbox\" ><label class=\"sk-toggleable__label\" for=\"c70eae9a-a2f4-48de-b310-99bbbd1f86a1\">categorical</label><div class=\"sk-toggleable__content\"><pre>['mode', 'explicit', 'key', 'year']</pre></div></div></div><div class=\"sk-serial\"><div class=\"sk-item\"><div class=\"sk-serial\"><div class=\"sk-item\"><div class=\"sk-estimator sk-toggleable\"><input class=\"sk-toggleable__control sk-hidden--visually\" id=\"b8bccc82-c3c5-47cf-be55-4904c4e2f838\" type=\"checkbox\" ><label class=\"sk-toggleable__label\" for=\"b8bccc82-c3c5-47cf-be55-4904c4e2f838\">OneHotEncoder</label><div class=\"sk-toggleable__content\"><pre>OneHotEncoder(handle_unknown='ignore')</pre></div></div></div><div class=\"sk-item\"><div class=\"sk-estimator sk-toggleable\"><input class=\"sk-toggleable__control sk-hidden--visually\" id=\"380cafbe-24d4-49a0-9183-bb4f8bcc4238\" type=\"checkbox\" ><label class=\"sk-toggleable__label\" for=\"380cafbe-24d4-49a0-9183-bb4f8bcc4238\">SimpleImputer</label><div class=\"sk-toggleable__content\"><pre>SimpleImputer(add_indicator=True, strategy='most_frequent')</pre></div></div></div></div></div></div></div></div><div class=\"sk-parallel-item\"><div class=\"sk-item\"><div class=\"sk-label-container\"><div class=\"sk-label sk-toggleable\"><input class=\"sk-toggleable__control sk-hidden--visually\" id=\"a93b7245-79d4-45dd-97c6-d5f9063acc36\" type=\"checkbox\" ><label class=\"sk-toggleable__label\" for=\"a93b7245-79d4-45dd-97c6-d5f9063acc36\">continuous</label><div class=\"sk-toggleable__content\"><pre>['acousticness', 'danceability', 'duration_ms', 'energy', 'instrumentalness', 'liveness', 'loudness', 'speechiness', 'tempo', 'valence']</pre></div></div></div><div class=\"sk-serial\"><div class=\"sk-item\"><div class=\"sk-serial\"><div class=\"sk-item\"><div class=\"sk-estimator sk-toggleable\"><input class=\"sk-toggleable__control sk-hidden--visually\" id=\"8ab84b55-d3f7-4edc-8425-ef2a5c4cb615\" type=\"checkbox\" ><label class=\"sk-toggleable__label\" for=\"8ab84b55-d3f7-4edc-8425-ef2a5c4cb615\">StandardScaler</label><div class=\"sk-toggleable__content\"><pre>StandardScaler()</pre></div></div></div><div class=\"sk-item\"><div class=\"sk-estimator sk-toggleable\"><input class=\"sk-toggleable__control sk-hidden--visually\" id=\"1148a4aa-1c00-4d1b-a351-822df16b3791\" type=\"checkbox\" ><label class=\"sk-toggleable__label\" for=\"1148a4aa-1c00-4d1b-a351-822df16b3791\">KNNImputer</label><div class=\"sk-toggleable__content\"><pre>KNNImputer()</pre></div></div></div></div></div></div></div></div></div></div><div class=\"sk-item sk-dashed-wrapped\"><div class=\"sk-label-container\"><div class=\"sk-label sk-toggleable\"><input class=\"sk-toggleable__control sk-hidden--visually\" id=\"1dcf2563-2ed6-4218-b772-03d8bc33ec5c\" type=\"checkbox\" ><label class=\"sk-toggleable__label\" for=\"1dcf2563-2ed6-4218-b772-03d8bc33ec5c\">bag: TransformedTargetRegressor</label><div class=\"sk-toggleable__content\"><pre>TransformedTargetRegressor(regressor=BaggingRegressor(n_estimators=150,\n",
       "                                                      n_jobs=-1),\n",
       "                           transformer=QuantileTransformer(n_quantiles=300,\n",
       "                                                           output_distribution='normal'))</pre></div></div></div><div class=\"sk-parallel\"><div class=\"sk-parallel-item\"><div class=\"sk-item\"><div class=\"sk-serial\"><div class=\"sk-item\"><div class=\"sk-estimator sk-toggleable\"><input class=\"sk-toggleable__control sk-hidden--visually\" id=\"dc9a2260-8f5e-40d4-8590-805d4645f88b\" type=\"checkbox\" ><label class=\"sk-toggleable__label\" for=\"dc9a2260-8f5e-40d4-8590-805d4645f88b\">BaggingRegressor</label><div class=\"sk-toggleable__content\"><pre>BaggingRegressor(n_estimators=150, n_jobs=-1)</pre></div></div></div></div></div></div><div class=\"sk-parallel-item\"><div class=\"sk-item\"><div class=\"sk-serial\"><div class=\"sk-item\"><div class=\"sk-estimator sk-toggleable\"><input class=\"sk-toggleable__control sk-hidden--visually\" id=\"7e6e5ba1-eaed-4222-9f6c-bb698da41663\" type=\"checkbox\" ><label class=\"sk-toggleable__label\" for=\"7e6e5ba1-eaed-4222-9f6c-bb698da41663\">QuantileTransformer</label><div class=\"sk-toggleable__content\"><pre>QuantileTransformer(n_quantiles=300, output_distribution='normal')</pre></div></div></div></div></div></div></div></div></div></div></div></div>"
      ],
      "text/plain": [
       "Pipeline(steps=[('preprocessor',\n",
       "                 ColumnTransformer(transformers=[('categorical',\n",
       "                                                  Pipeline(steps=[('ohe',\n",
       "                                                                   OneHotEncoder(handle_unknown='ignore')),\n",
       "                                                                  ('imputer',\n",
       "                                                                   SimpleImputer(add_indicator=True,\n",
       "                                                                                 strategy='most_frequent'))]),\n",
       "                                                  ['mode', 'explicit', 'key',\n",
       "                                                   'year']),\n",
       "                                                 ('continuous',\n",
       "                                                  Pipeline(steps=[('SS',\n",
       "                                                                   StandardScaler()),\n",
       "                                                                  ('KNN',\n",
       "                                                                   KNNImputer())]),\n",
       "                                                  ['acousticness',\n",
       "                                                   'danceability',\n",
       "                                                   'duration_ms', 'energy',\n",
       "                                                   'instrumentalness',\n",
       "                                                   'liveness', 'loudness',\n",
       "                                                   'speechiness', 'tempo',\n",
       "                                                   'valence'])])),\n",
       "                ('bag',\n",
       "                 TransformedTargetRegressor(regressor=BaggingRegressor(n_estimators=150,\n",
       "                                                                       n_jobs=-1),\n",
       "                                            transformer=QuantileTransformer(n_quantiles=300,\n",
       "                                                                            output_distribution='normal')))])"
      ]
     },
     "execution_count": 41,
     "metadata": {},
     "output_type": "execute_result"
    }
   ],
   "source": [
    "model_final = BaggingRegressor(n_estimators=150, max_features = 1.0, n_jobs=-1)\n",
    "model_final_pipe = Pipeline([('preprocessor', preprocessor),\n",
    "                ('bag', TransformedTargetRegressor(regressor=model_final,\n",
    "                                                         transformer=QuantileTransformer(n_quantiles=300,\n",
    "                                                         output_distribution='normal')))])\n",
    "model_final_pipe.fit(X_train, y_train)"
   ]
  },
  {
   "cell_type": "code",
   "execution_count": 42,
   "metadata": {
    "ExecuteTime": {
     "end_time": "2021-03-10T22:04:23.469037Z",
     "start_time": "2021-03-10T22:04:22.558900Z"
    }
   },
   "outputs": [
    {
     "name": "stdout",
     "output_type": "stream",
     "text": [
      "MAE: 17.270750\n"
     ]
    }
   ],
   "source": [
    "# Prediction on test set\n",
    "y_pred = model_final_pipe.predict(X_test)\n",
    "mae = mean_absolute_error(y_test, y_pred)\n",
    "print(f\"MAE: {mae:.6f}\")"
   ]
  },
  {
   "cell_type": "markdown",
   "metadata": {},
   "source": [
    "Evaluation Metric\n",
    "----"
   ]
  },
  {
   "cell_type": "markdown",
   "metadata": {},
   "source": [
    "Mean absolute error is used to determine how close the predicted popularity score of a song is to the actual populartiy. This metric can be explained as \"this model can predict that this song will have a popularity of this number, with a potential of 17 error\". Future work will include correlating to  the Billboard top 100 songs. For instance: Taking the existing song title and popularity and comparing to Billboard. With benchmark of these songs and the MAE, the model can predict potential ranking of a song in Billboard based on the song characteristics."
   ]
  }
 ],
 "metadata": {
  "kernelspec": {
   "display_name": "Python 3",
   "language": "python",
   "name": "python3"
  },
  "language_info": {
   "codemirror_mode": {
    "name": "ipython",
    "version": 3
   },
   "file_extension": ".py",
   "mimetype": "text/x-python",
   "name": "python",
   "nbconvert_exporter": "python",
   "pygments_lexer": "ipython3",
   "version": "3.8.2"
  },
  "toc": {
   "base_numbering": 1,
   "nav_menu": {},
   "number_sections": false,
   "sideBar": false,
   "skip_h1_title": false,
   "title_cell": "Table of Contents",
   "title_sidebar": "Contents",
   "toc_cell": true,
   "toc_position": {},
   "toc_section_display": true,
   "toc_window_display": false
  },
  "varInspector": {
   "cols": {
    "lenName": 16,
    "lenType": 16,
    "lenVar": 40
   },
   "kernels_config": {
    "python": {
     "delete_cmd_postfix": "",
     "delete_cmd_prefix": "del ",
     "library": "var_list.py",
     "varRefreshCmd": "print(var_dic_list())"
    },
    "r": {
     "delete_cmd_postfix": ") ",
     "delete_cmd_prefix": "rm(",
     "library": "var_list.r",
     "varRefreshCmd": "cat(var_dic_list()) "
    }
   },
   "position": {
    "height": "524px",
    "left": "2190px",
    "right": "20px",
    "top": "120px",
    "width": "350px"
   },
   "types_to_exclude": [
    "module",
    "function",
    "builtin_function_or_method",
    "instance",
    "_Feature"
   ],
   "window_display": false
  }
 },
 "nbformat": 4,
 "nbformat_minor": 2
}
